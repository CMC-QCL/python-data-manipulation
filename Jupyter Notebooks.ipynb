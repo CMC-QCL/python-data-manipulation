{
 "cells": [
  {
   "cell_type": "markdown",
   "id": "c608aa95",
   "metadata": {},
   "source": [
    "## JupyterHub\n",
    "\n",
    "JupyterHub runs Jupyter Notebooks in the cloud. Let's begin by downloading the zip file of today's workshop materials from https://github.com/CMC-QCL/python-data-manipulation.\n",
    "\n",
    "![](https://raw.githubusercontent.com/CMC-QCL/python-data-manipulation/main/imgs/ghub_zip.png)\n",
    "\n",
    "Extract all files and go to https://webapps.cmc.edu/jupyter. You will be prompted for a Username and Password, use the Username you received by email and set up a password at least 20 characters long.\n",
    "\n",
    "Use the \"Upload\" button and select the two notebooks you downloaded.\n",
    "\n",
    "![](https://raw.githubusercontent.com/CMC-QCL/python-data-manipulation/main/imgs/jhub_upload_notebook.png)\n",
    "\n",
    "![](https://raw.githubusercontent.com/CMC-QCL/python-data-manipulation/main/imgs/jhub_upload_notebook2.png)\n",
    "\n",
    "Click the Upload buttons next to the files you want to upload.\n",
    "\n",
    "![](https://raw.githubusercontent.com/CMC-QCL/python-data-manipulation/main/imgs/jhub_upload_notebook3.png)"
   ]
  },
  {
   "cell_type": "markdown",
   "id": "a9df37fe",
   "metadata": {},
   "source": [
    "# Guide to Jupyter Notebooks\n",
    "\n",
    "Jupyter Notebooks are widely used to develop and present data science projects. The name Jupyter is a reference to the three core programming languages: Julia, Python and R. Jupyter Notebooks allows us to run interactive sessions in these languages with support for Markdown for text cells.\n",
    "\n",
    "There are 2 modes: command mode (blue) and edit mode (green). To enter command mode, press `Esc`. To enter edit mode, select a cell and press `Enter`. \n",
    "\n",
    "In command mode\n",
    "\n",
    "- `A` to insert a cell above\n",
    "- `B` to insert a cell below\n",
    "- `DD` delete the selected cell\n",
    "- `M` to change the cell type to Markdown\n",
    "- `Y` to change the cell type to Code\n",
    "\n",
    "To run the selected cells, press `Ctrl + Enter` on Windows or `⌘ + Enter` on Mac.\n",
    "\n",
    "A Code cell will evaluate Python code and show the result."
   ]
  },
  {
   "cell_type": "code",
   "execution_count": null,
   "id": "5c7c2d70",
   "metadata": {},
   "outputs": [],
   "source": [
    "# This is Python code\n",
    "5 + 5"
   ]
  }
 ],
 "metadata": {
  "kernelspec": {
   "display_name": "Python 3 (ipykernel)",
   "language": "python",
   "name": "python3"
  },
  "language_info": {
   "codemirror_mode": {
    "name": "ipython",
    "version": 3
   },
   "file_extension": ".py",
   "mimetype": "text/x-python",
   "name": "python",
   "nbconvert_exporter": "python",
   "pygments_lexer": "ipython3",
   "version": "3.10.8"
  }
 },
 "nbformat": 4,
 "nbformat_minor": 5
}
