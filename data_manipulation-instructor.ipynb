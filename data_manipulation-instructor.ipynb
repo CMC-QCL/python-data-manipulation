{
 "cells": [
  {
   "cell_type": "markdown",
   "id": "0ef8ad25",
   "metadata": {},
   "source": [
    "# Python: Data Manipulation\n",
    "\n",
    "Welcome to the QCL Bootcamp. Today's topic is **Data Manipulation**.\n",
    "\n",
    "I will assume you are familiar with the topics covered in the **Practical Programming with Python** Workshop (Level 1):\n",
    "\n",
    "* Basics of Jupyter notebook\n",
    "* Variables\n",
    "* Functions\n",
    "* Lists and dictionaries\n",
    "* For loops\n",
    "* Conditional statements\n",
    "\n",
    "![](https://raw.githubusercontent.com/CMC-QCL/python-data-manipulation/main/imgs/np_pd_logos.png)\n",
    "\n",
    "By the end of this workshop you will be able to:\n",
    "\n",
    "* Import and export data\n",
    "* Explore and subset DataFrames\n",
    "* Detect and deal with missing data\n",
    "* Change between data types"
   ]
  },
  {
   "cell_type": "markdown",
   "id": "8823b577",
   "metadata": {},
   "source": [
    "## Jupyter Notebooks review\n",
    "\n",
    "There are 2 modes: command mode (blue) and edit mode (green). To enter command mode, press `Esc`. To enter edit mode, select a cell and press `Enter`.\n",
    "\n",
    "To run the selected cells, press `Ctrl + Enter` on Windows or `⌘ + Enter` on Mac.\n",
    "\n",
    "A Code cell will evaluate Python code and show the result (if there's anything to show)."
   ]
  },
  {
   "cell_type": "markdown",
   "id": "48922276",
   "metadata": {},
   "source": [
    "## Today's data\n",
    "\n",
    "Today's data was taken from [Kaggle](https://www.kaggle.com/). The dataset was scrapped from [IMDb](https://www.imdb.com/), a website that contains information about movies and TV shows. Registered users' votes are then summarized as their rating.\n",
    "\n",
    "The goal for today will be to explore and clean the IMDb's top [50,000 TV shows](https://www.kaggle.com/datasets/muralidharbhusal/50000-imdb-tv-and-web-series) dataset."
   ]
  },
  {
   "cell_type": "markdown",
   "id": "830cde8c",
   "metadata": {},
   "source": [
    "## Pandas and Numpy\n",
    "\n",
    "Pandas is a powerful and flexible library used for data exploration and transformation. Pandas is built on top of NumPy and uses DataFrames as its main data structure. NumPy (Numerical Python) provides the tools for efficient numerical computation (e.g. matrix multiplication) and uses multidimensional arrays as its data structure.\n",
    "\n",
    "|                         Pandas                        |                   NumPy                  |\n",
    "|:-----------------------------------------------------:|:----------------------------------------:|\n",
    "|          Uses a 2D data structure (DataFrame)         | Capable of using multidimensional arrays |\n",
    "|               Slower compared with NumPy              |            Faster than Pandas            |\n",
    "| Columns in a DataFrame can be of different data types | Arrays can only be of one data type      |"
   ]
  },
  {
   "cell_type": "markdown",
   "id": "75b4f20f",
   "metadata": {},
   "source": [
    "To use a library in Python, we first need to import it using an `import` statement. For example, we can import NumPy."
   ]
  },
  {
   "cell_type": "code",
   "execution_count": null,
   "id": "116e311d",
   "metadata": {},
   "outputs": [],
   "source": [
    "# Import NumPy\n",
    "import numpy\n",
    "\n",
    "print(numpy.pi)"
   ]
  },
  {
   "cell_type": "code",
   "execution_count": null,
   "id": "178ab9f3",
   "metadata": {},
   "outputs": [],
   "source": [
    "# Import with an alias\n",
    "import numpy as np\n",
    "\n",
    "print(np.pi)"
   ]
  },
  {
   "cell_type": "markdown",
   "id": "17d6f479",
   "metadata": {},
   "source": [
    "## Pandas DataFrames\n",
    "\n",
    "A DataFrame is a 2D data structure where each column can be of a different type. Both, rows and columns are labeled.\n",
    "\n",
    "### Create a DataFrame\n",
    "\n",
    "One way to construct a DataFrame is by using a dictionary."
   ]
  },
  {
   "cell_type": "code",
   "execution_count": null,
   "id": "07d49f7a",
   "metadata": {},
   "outputs": [],
   "source": [
    "import pandas as pd\n",
    "\n",
    "# Create a dictionary\n",
    "data_dict = {\"Title\": [\"Wednesday\", \"The White Lotus\"], \n",
    "             \"Release Year\": [2022, 2021], \n",
    "             \"Rating\": [8.2, 7.9]}\n",
    "\n",
    "# Create the DataFrame\n",
    "df = pd.DataFrame(data_dict)\n",
    "print(df)"
   ]
  },
  {
   "cell_type": "markdown",
   "id": "5151b667",
   "metadata": {},
   "source": [
    "Creating DataFrames by hand is useful for testing purposes. However, in most cases we will need to read our data from a CSV (Comma Separated Values) file or any other file format."
   ]
  },
  {
   "cell_type": "markdown",
   "id": "3e1ce7c1",
   "metadata": {},
   "source": [
    "### Importing data\n",
    "\n",
    "Pandas has many functions to import data from different sources. For example, we can read CSV files using the `read_csv()` function."
   ]
  },
  {
   "cell_type": "code",
   "execution_count": null,
   "id": "aae87652",
   "metadata": {},
   "outputs": [],
   "source": [
    "# Read today's data\n",
    "imdb = pd.read_csv(\"data/imdb_tv_series.csv\")"
   ]
  },
  {
   "cell_type": "markdown",
   "id": "c2e7dde1",
   "metadata": {},
   "source": [
    "<div class=\"alert alert-block alert-warning\">\n",
    "    <b>Note:</b> Pandas also has functions to read Excel files (<code>read_excel()</code>) and even SQL files (<code>read_sql()</code>).\n",
    "</div>"
   ]
  },
  {
   "cell_type": "markdown",
   "id": "3743566f",
   "metadata": {},
   "source": []
  },
  {
   "cell_type": "markdown",
   "id": "d5ec7366",
   "metadata": {},
   "source": [
    "<div class=\"alert alert-block alert-success\">\n",
    "    <b>Hands-on:</b> Read the <code>\"2019.csv\"</code> files in the <code>\"data/\"</code> folder and save it to the \"happiness2019\" variable.\n",
    "</div>"
   ]
  },
  {
   "cell_type": "code",
   "execution_count": null,
   "id": "c2136759",
   "metadata": {},
   "outputs": [],
   "source": [
    "# Read your file\n",
    "happiness2019 = pd.read_csv(\"data/2019.csv\")"
   ]
  },
  {
   "cell_type": "markdown",
   "id": "6a5d0e14",
   "metadata": {},
   "source": [
    "### Exploring your DataFrame\n",
    "\n",
    "The IMDb dataset is considerably larger than our first DataFrame which is why printing the whole thing is not recommended."
   ]
  },
  {
   "cell_type": "code",
   "execution_count": null,
   "id": "8a258e15",
   "metadata": {},
   "outputs": [],
   "source": [
    "# Print the IMDB DataFrame\n",
    "print(imdb)"
   ]
  },
  {
   "cell_type": "markdown",
   "id": "60b1e765",
   "metadata": {},
   "source": [
    "However, we can explore our dataset using some useful Pandas functions. The `head()` function will print the first 5 rows of our DataFrame by default."
   ]
  },
  {
   "cell_type": "code",
   "execution_count": null,
   "id": "7a1aac61",
   "metadata": {},
   "outputs": [],
   "source": [
    "# First 5 rows of our DataFrame\n",
    "imdb.head()"
   ]
  },
  {
   "cell_type": "markdown",
   "id": "868703ab",
   "metadata": {},
   "source": [
    "We can also obtain the dimensions of our DataFrame using `shape`."
   ]
  },
  {
   "cell_type": "code",
   "execution_count": null,
   "id": "88fc866d",
   "metadata": {},
   "outputs": [],
   "source": [
    "# Dimensions of our DataFrame\n",
    "imdb.shape"
   ]
  },
  {
   "cell_type": "markdown",
   "id": "ea01a81a",
   "metadata": {},
   "source": [
    "<div class=\"alert alert-block alert-warning\">\n",
    "    <b>Note:</b> While <code>head()</code> is a method (i.e. a function associated with a Pandas DataFrame), <code>shape</code> is an attribute. This is why we do not use parentheses.\n",
    "</div>"
   ]
  },
  {
   "cell_type": "markdown",
   "id": "04c8dced",
   "metadata": {},
   "source": [
    "We can also access the full list of column names of our DataFrame using `columns`."
   ]
  },
  {
   "cell_type": "code",
   "execution_count": null,
   "id": "1e64be01",
   "metadata": {},
   "outputs": [],
   "source": [
    "# Columns of our DataFrame\n",
    "imdb.columns"
   ]
  },
  {
   "cell_type": "markdown",
   "id": "f5d5e0e6",
   "metadata": {},
   "source": [
    "To generate descriptive statistics of our DataFrame, we can use the `describe()` function."
   ]
  },
  {
   "cell_type": "code",
   "execution_count": null,
   "id": "31d9e07d",
   "metadata": {},
   "outputs": [],
   "source": [
    "# Descriptive statistics of our DataFrame\n",
    "imdb.describe()"
   ]
  },
  {
   "cell_type": "markdown",
   "id": "e28d3eab",
   "metadata": {},
   "source": [
    "Notice that `describe()`, by default, only gives us information about the release and end years."
   ]
  },
  {
   "cell_type": "markdown",
   "id": "f56705db",
   "metadata": {},
   "source": [
    "The `info()` function prints a summary  of the DataFrame including the columns' data types (Dtype) and a Non-Null count."
   ]
  },
  {
   "cell_type": "code",
   "execution_count": null,
   "id": "a3466e82",
   "metadata": {},
   "outputs": [],
   "source": [
    "# Summary of our DataFrame\n",
    "imdb.info()"
   ]
  },
  {
   "cell_type": "markdown",
   "id": "e4609fa1",
   "metadata": {},
   "source": [
    "We can see from this output that there are some missing values in our Release Year, End Year and Cast columns. We will deal with this later.\n",
    "\n",
    "Some of the Pandas data types you may encounter are:\n",
    "\n",
    "| Pandas dtype |                     Usage                    |\n",
    "|:------------:|:--------------------------------------------:|\n",
    "|    object    | Text or mixed numeric and non-numeric values |\n",
    "|     int64    |                Integer numbers               |\n",
    "|    float64   |            Floating point numbers            |\n",
    "|     bool     |               True/False values              |"
   ]
  },
  {
   "cell_type": "markdown",
   "id": "f4735542",
   "metadata": {},
   "source": [
    "<div class=\"alert alert-block alert-success\">\n",
    "    <b>Hands-on:</b> Explore the <code>happiness2019</code> data set using <code>head()</code>, <code>describe()</code>, <code>info()</code>, <code>shape</code> and <code>columns</code>.\n",
    "</div>"
   ]
  },
  {
   "cell_type": "code",
   "execution_count": null,
   "id": "4f4006ae",
   "metadata": {},
   "outputs": [],
   "source": [
    "# Print the first 5 rows\n",
    "happiness2019.head()"
   ]
  },
  {
   "cell_type": "code",
   "execution_count": null,
   "id": "d893a087",
   "metadata": {},
   "outputs": [],
   "source": [
    "# Print descriptive statistics\n",
    "happiness2019.describe()"
   ]
  },
  {
   "cell_type": "code",
   "execution_count": null,
   "id": "10e4a7bf",
   "metadata": {},
   "outputs": [],
   "source": [
    "# Print a summary of your data with info()\n",
    "happiness2019.info()"
   ]
  },
  {
   "cell_type": "code",
   "execution_count": null,
   "id": "b044d914",
   "metadata": {},
   "outputs": [],
   "source": [
    "# Print the dimensions of your dataset\n",
    "happiness2019.shape"
   ]
  },
  {
   "cell_type": "code",
   "execution_count": null,
   "id": "83b9cebb",
   "metadata": {},
   "outputs": [],
   "source": [
    "# Print the column names\n",
    "happiness2019.columns"
   ]
  },
  {
   "cell_type": "markdown",
   "id": "2a21bf31",
   "metadata": {},
   "source": [
    "These functions give us general information about our data. However, we can also explore subsets of our data."
   ]
  },
  {
   "cell_type": "markdown",
   "id": "052411a2",
   "metadata": {},
   "source": [
    "### Subsetting your DataFrame\n",
    "\n",
    "We can select columns of the DataFrame using the column name"
   ]
  },
  {
   "cell_type": "code",
   "execution_count": null,
   "id": "37893b8a",
   "metadata": {},
   "outputs": [],
   "source": [
    "# Select the titles\n",
    "imdb[\"Title\"]"
   ]
  },
  {
   "cell_type": "markdown",
   "id": "e5dd7202",
   "metadata": {},
   "source": [
    "<div class=\"alert alert-block alert-warning\">\n",
    "<b>Note:</b> Each column in a DataFrame is a Pandas Series. We can think of a DataFrame as a dictionary of Pandas Series.\n",
    "</div>"
   ]
  },
  {
   "cell_type": "markdown",
   "id": "0de69286",
   "metadata": {},
   "source": [
    "If we do not want all the rows we can use the `head()` function at the end. We can also select multiple columns by using a list of column names."
   ]
  },
  {
   "cell_type": "code",
   "execution_count": null,
   "id": "8b1b5df4",
   "metadata": {},
   "outputs": [],
   "source": [
    "# Select multiple columns\n",
    "imdb[[\"Title\", \"Release Year\", \"Rating\"]].head()"
   ]
  },
  {
   "cell_type": "markdown",
   "id": "96e3cb74",
   "metadata": {},
   "source": [
    "Sometimes, it is useful to store the list of columns we want to access on a separate variable."
   ]
  },
  {
   "cell_type": "code",
   "execution_count": null,
   "id": "9fbdcbbf",
   "metadata": {},
   "outputs": [],
   "source": [
    "# Select multiple columns\n",
    "cols = [\"Title\", \"Release Year\", \"Rating\"]\n",
    "imdb[cols].head()"
   ]
  },
  {
   "cell_type": "markdown",
   "id": "d59e5308",
   "metadata": {},
   "source": [
    "We can also select rows of our DataFrame based on a condition. Using comparison operators on a column returns a column of the same length with boolean values."
   ]
  },
  {
   "cell_type": "code",
   "execution_count": null,
   "id": "bc82cca3",
   "metadata": {},
   "outputs": [],
   "source": [
    "# Condition on Release Year\n",
    "imdb[\"Release Year\"] > 2010"
   ]
  },
  {
   "cell_type": "markdown",
   "id": "a873a8b4",
   "metadata": {},
   "source": [
    "<div class=\"alert alert-block alert-warning\">\n",
    "    <b>Note:</b> Comparisons with missing values, encoded as <code>NaN</code>, will return <code>False</code>.\n",
    "</div>"
   ]
  },
  {
   "cell_type": "markdown",
   "id": "4d8206cf",
   "metadata": {},
   "source": [
    "We can use this to select only the rows of those TV shows that were released after 2010."
   ]
  },
  {
   "cell_type": "code",
   "execution_count": null,
   "id": "498a0bcd",
   "metadata": {},
   "outputs": [],
   "source": [
    "# TV shows released after 2010\n",
    "imdb[imdb[\"Release Year\"] > 2010].head()"
   ]
  },
  {
   "cell_type": "markdown",
   "id": "4321fd9e",
   "metadata": {},
   "source": [
    "If instead we wanted to retrieve the TV shows that were released between two years, we can use multiple conditions."
   ]
  },
  {
   "cell_type": "code",
   "execution_count": null,
   "id": "b7dcb0d9",
   "metadata": {},
   "outputs": [],
   "source": [
    "# Use multiple conditions\n",
    "after_2010 = imdb[\"Release Year\"] > 2010\n",
    "before_2015 = imdb[\"Release Year\"] < 2015\n",
    "imdb[after_2010 & before_2015].head()"
   ]
  },
  {
   "cell_type": "code",
   "execution_count": null,
   "id": "20cf3c6d",
   "metadata": {},
   "outputs": [],
   "source": [
    "# Alternative syntax\n",
    "imdb[(imdb[\"Release Year\"] > 2010) & \n",
    "     (imdb[\"Release Year\"] < 2015)].head()"
   ]
  },
  {
   "cell_type": "markdown",
   "id": "bd763afd",
   "metadata": {},
   "source": [
    "The conditional operators in Pandas are:\n",
    "\n",
    "| Operator | Pandas |\n",
    "|:--------:|:------:|\n",
    "|    and   |    &   |\n",
    "|    or    |   \\|   |\n",
    "|   not    | ~      |"
   ]
  },
  {
   "cell_type": "markdown",
   "id": "ea5cc8fc",
   "metadata": {},
   "source": [
    "To select rows based on text data, we can use the `==` operator."
   ]
  },
  {
   "cell_type": "code",
   "execution_count": null,
   "id": "118c2a78",
   "metadata": {},
   "outputs": [],
   "source": [
    "# Select the row for Dark\n",
    "imdb[imdb[\"Title\"] == \"Dark\"]"
   ]
  },
  {
   "cell_type": "markdown",
   "id": "0bae6910",
   "metadata": {},
   "source": [
    "If we are using the `==` operator, instead of using multiple conditions to check for equality, we can use the `isin()` function."
   ]
  },
  {
   "cell_type": "code",
   "execution_count": null,
   "id": "5962d4a4",
   "metadata": {},
   "outputs": [],
   "source": [
    "# Select multiple titles with conditions\n",
    "imdb[(imdb[\"Title\"] == \"Dark\") | \n",
    "     (imdb[\"Title\"] == \"The Big Bang Theory\")]"
   ]
  },
  {
   "cell_type": "code",
   "execution_count": null,
   "id": "e78f95c3",
   "metadata": {},
   "outputs": [],
   "source": [
    "# Select multiple titles with isin()\n",
    "imdb[imdb[\"Title\"].isin([\"Dark\", \"The Big Bang Theory\"])]"
   ]
  },
  {
   "cell_type": "markdown",
   "id": "5a79f345",
   "metadata": {},
   "source": [
    "This also works for any other data type, not just text."
   ]
  },
  {
   "cell_type": "code",
   "execution_count": null,
   "id": "e2e6824f",
   "metadata": {},
   "outputs": [],
   "source": [
    "# Select all TV shows with release year 2010, 2015 and 2020\n",
    "years = [2010, 2015, 2020]\n",
    "imdb[imdb[\"Release Year\"].isin(years)].head()"
   ]
  },
  {
   "cell_type": "markdown",
   "id": "bf0612c5",
   "metadata": {},
   "source": [
    "<div class=\"alert alert-block alert-success\">\n",
    "    <b>Hands-on:</b>\n",
    "<ol>\n",
    "    <li>Print the first 5 rows of the 'Overall rank', 'Country or region', 'Score' columns.</li>\n",
    "    <li>Print the rows that GDP is within top 25%</li>\n",
    "    <li>Print the rows that GDP is within top 25% and their overall rank is not within top 25%</li>\n",
    "</ol>\n",
    "</div>"
   ]
  },
  {
   "cell_type": "code",
   "execution_count": null,
   "id": "e56fd000",
   "metadata": {},
   "outputs": [],
   "source": [
    "# Print the first 5 rows of Team, Year and Season columns\n",
    "cols = ['Overall rank', 'Country or region', 'Score']\n",
    "happiness2019[cols].head()\n",
    "happiness2019.describe()"
   ]
  },
  {
   "cell_type": "code",
   "execution_count": null,
   "id": "4f9fb055",
   "metadata": {},
   "outputs": [],
   "source": [
    "# Print the rows that GDP is within top 25%\n",
    "## First find the value for the top 25% GDP \n",
    "top25GDP = happiness2019['GDP per capita'].describe()['75%']\n",
    "print(top25GDP)"
   ]
  },
  {
   "cell_type": "code",
   "execution_count": null,
   "id": "6325e3ac",
   "metadata": {},
   "outputs": [],
   "source": [
    "# Print the rows that GDP is within top 25% and their overall rank is not within top 25%\n",
    "top25rank = happiness2019['Overall rank'].describe()['25%']\n",
    "happiness2019[(happiness2019['GDP per capita'] > top25GDP) & (happiness2019['Overall rank'] > top25rank)]\n"
   ]
  },
  {
   "cell_type": "markdown",
   "id": "26cd03ff",
   "metadata": {},
   "source": [
    "You may have not noticed, but there are many duplicated titles in our dataset."
   ]
  },
  {
   "cell_type": "code",
   "execution_count": null,
   "id": "d704959f",
   "metadata": {
    "scrolled": true
   },
   "outputs": [],
   "source": [
    "# Select a different show\n",
    "imdb[imdb[\"Title\"] == \"Alice in Borderland\"].head()"
   ]
  },
  {
   "cell_type": "markdown",
   "id": "a6005cff",
   "metadata": {},
   "source": [
    "To check for duplicated rows we can use the `duplicated()` function."
   ]
  },
  {
   "cell_type": "code",
   "execution_count": null,
   "id": "bb32692f",
   "metadata": {},
   "outputs": [],
   "source": [
    "# The duplicated() method returns a Series of boolean values\n",
    "imdb.duplicated()"
   ]
  },
  {
   "cell_type": "markdown",
   "id": "b40bef1c",
   "metadata": {},
   "source": [
    "We can use this together with the `any()` function to see if _any_ of the boolean values is `True`."
   ]
  },
  {
   "cell_type": "code",
   "execution_count": null,
   "id": "742e73e2",
   "metadata": {},
   "outputs": [],
   "source": [
    "# Check if there is any duplicated row\n",
    "imdb.duplicated().any()"
   ]
  },
  {
   "cell_type": "markdown",
   "id": "b082b02e",
   "metadata": {},
   "source": [
    "With this, we can subset our DataFrame to see the duplicated rows."
   ]
  },
  {
   "cell_type": "code",
   "execution_count": null,
   "id": "27179a88",
   "metadata": {},
   "outputs": [],
   "source": [
    "# See some duplicated rows\n",
    "dups = imdb[imdb.duplicated()]\n",
    "dups.head()"
   ]
  },
  {
   "cell_type": "code",
   "execution_count": null,
   "id": "ffe2fbdf",
   "metadata": {},
   "outputs": [],
   "source": [
    "# Check one of the duplicated titles\n",
    "dups[dups[\"Title\"] == \"Wednesday\"].head()"
   ]
  },
  {
   "cell_type": "markdown",
   "id": "ce32eb3a",
   "metadata": {},
   "source": [
    "To drop this duplicated rows use the `drop_duplicates()` function."
   ]
  },
  {
   "cell_type": "code",
   "execution_count": null,
   "id": "d4e27a15",
   "metadata": {},
   "outputs": [],
   "source": [
    "# Drop duplicated rows\n",
    "imdb.drop_duplicates(inplace=True)\n",
    "imdb[imdb[\"Title\"] == \"Alice in Borderland\"].head()"
   ]
  },
  {
   "cell_type": "markdown",
   "id": "6dd114c8",
   "metadata": {},
   "source": [
    "<div class=\"alert alert-block alert-success\">\n",
    "    <b>Hands-on:</b> \n",
    "<ol>\n",
    "    <li>Check for duplicates in the happiness2019 dataset.</li>\n",
    "</ol>\n",
    "</div>"
   ]
  },
  {
   "cell_type": "code",
   "execution_count": null,
   "id": "5a702b2d",
   "metadata": {},
   "outputs": [],
   "source": [
    "# Check for duplicates\n",
    "happiness2019.duplicated().any()"
   ]
  },
  {
   "cell_type": "markdown",
   "id": "55d92557",
   "metadata": {},
   "source": [
    "#### Location-based indexing"
   ]
  },
  {
   "cell_type": "markdown",
   "id": "49619360",
   "metadata": {},
   "source": [
    "Pandas has two additional ways of indexing that allow us to select specified rows and columns: `.loc` and `.iloc`. \n",
    "\n",
    "The `.loc` method is used to obtain rows and columns with a specific label. Since we have not modified the row labels, these correspond to their integer index."
   ]
  },
  {
   "cell_type": "code",
   "execution_count": null,
   "id": "3a250863",
   "metadata": {},
   "outputs": [],
   "source": [
    "# Select the 11th title\n",
    "imdb.loc[11, \"Title\"]"
   ]
  },
  {
   "cell_type": "markdown",
   "id": "82b2a91a",
   "metadata": {},
   "source": [
    "However, the most useful way to use the `.loc` method is by subsetting rows based on a condition and selection columns by name."
   ]
  },
  {
   "cell_type": "code",
   "execution_count": null,
   "id": "1e736528",
   "metadata": {},
   "outputs": [],
   "source": [
    "# Select the TV show titles released in 2010, 2015 and 2020\n",
    "years = [2010, 2015, 2020]\n",
    "imdb.loc[imdb[\"Release Year\"].isin(years), \n",
    "         \"Title\"].head()"
   ]
  },
  {
   "cell_type": "markdown",
   "id": "b57141ed",
   "metadata": {},
   "source": [
    "We can use this to obtain more than one column too."
   ]
  },
  {
   "cell_type": "code",
   "execution_count": null,
   "id": "3b773124",
   "metadata": {},
   "outputs": [],
   "source": [
    "# Select the TV show titles and rating\n",
    "years = [2010, 2015, 2020]\n",
    "cols = [\"Title\", \"Release Year\", \"Rating\"]\n",
    "imdb.loc[imdb[\"Release Year\"].isin(years), cols].head()"
   ]
  },
  {
   "cell_type": "markdown",
   "id": "4f722966",
   "metadata": {},
   "source": [
    "On the other hand, the `.iloc` method is mainly integer position based. For example, if we want to take the first row and first to third columns."
   ]
  },
  {
   "cell_type": "code",
   "execution_count": null,
   "id": "07fdef81",
   "metadata": {},
   "outputs": [],
   "source": [
    "# First row and first to third columns (remember: [r, c])\n",
    "imdb.iloc[0, 0:3]"
   ]
  },
  {
   "cell_type": "markdown",
   "id": "6f8d7d52",
   "metadata": {},
   "source": [
    "We can also obtain non consecutive rows and columns by using lists."
   ]
  },
  {
   "cell_type": "code",
   "execution_count": null,
   "id": "ef12fdcf",
   "metadata": {},
   "outputs": [],
   "source": [
    "# First and fifth rows with the first and fourth columns\n",
    "imdb.iloc[[0, 4], [0, 3]]"
   ]
  },
  {
   "cell_type": "markdown",
   "id": "f28648d4",
   "metadata": {},
   "source": [
    "## Dealing with missing data\n",
    "\n",
    "We have already seen some of the missing values in the Release Year and End Year columns encoded as NaN (Not a Number), but there are also missing values that we may not be aware of until they get in the way. For example, if we wanted to change the Rating column to a float type, Python would throw an error."
   ]
  },
  {
   "cell_type": "code",
   "execution_count": null,
   "id": "7ea592a9",
   "metadata": {},
   "outputs": [],
   "source": [
    "print(imdb[\"Rating\"].dtypes)"
   ]
  },
  {
   "cell_type": "code",
   "execution_count": null,
   "id": "caeb779e",
   "metadata": {},
   "outputs": [],
   "source": [
    "# Convert Rating to float\n",
    "imdb[\"Rating\"].astype(\"float\")"
   ]
  },
  {
   "cell_type": "markdown",
   "id": "f1b0689b",
   "metadata": {},
   "source": [
    "Most libraries (including scikit-learn) will complain when working with missing values, even if these are stored as NaN. Moreover, missing values can drastically impact the quality of your models."
   ]
  },
  {
   "cell_type": "code",
   "execution_count": null,
   "id": "2e14e5f3",
   "metadata": {
    "scrolled": true
   },
   "outputs": [],
   "source": [
    "from sklearn.linear_model import LinearRegression\n",
    "\n",
    "# Prepare the inputs\n",
    "X = np.array(imdb[\"Release Year\"]).reshape(-1, 1)\n",
    "y = np.array(imdb[\"Rating\"]).reshape(-1, 1)\n",
    "\n",
    "# Linear regression model\n",
    "regr = LinearRegression()\n",
    "regr.fit(X, y)"
   ]
  },
  {
   "cell_type": "markdown",
   "id": "86fe1e1c",
   "metadata": {},
   "source": [
    "The first step when dealing with missing data is finding it. The `info()` function we introduced earlier is useful to detect missing values encoded as NaN. Unfortunately, as we saw, not all missing values are encoded the same way. \n",
    "\n",
    "Sometimes the data types of our columns may provide some information. For example, the column Rating has type object which is used to represent text."
   ]
  },
  {
   "cell_type": "code",
   "execution_count": null,
   "id": "5b729802",
   "metadata": {},
   "outputs": [],
   "source": [
    "# Show info\n",
    "imdb.info()"
   ]
  },
  {
   "cell_type": "markdown",
   "id": "4e4dd01f",
   "metadata": {},
   "source": [
    "<div class=\"alert alert-block alert-warning\">\n",
    "    <b>Note:</b> Release Year and End Year are type float64 even though years are integers. In Pandas, NaN is considered a float which forces a column of integers with missing values to become floats.\n",
    "</div>"
   ]
  },
  {
   "cell_type": "markdown",
   "id": "bf243895",
   "metadata": {},
   "source": [
    "To address missing values you can either remove the columns and/or rows with missing data (not always recommended) or replace/impute these values. Multiple imputation methods exist and choosing the right one is not always easy. For demonstration purposes we will replace the missing values in the Rating column for the mean of the existing values."
   ]
  },
  {
   "cell_type": "code",
   "execution_count": null,
   "id": "20d3689a",
   "metadata": {},
   "outputs": [],
   "source": [
    "# Extract existing values\n",
    "true_rating = imdb.loc[imdb[\"Rating\"] != \"****\", \n",
    "                       \"Rating\"].astype(\"float\")\n",
    "true_rating.head()"
   ]
  },
  {
   "cell_type": "code",
   "execution_count": null,
   "id": "9f227fc9",
   "metadata": {},
   "outputs": [],
   "source": [
    "# Compute the mean\n",
    "mean_rating = np.mean(true_rating).round(1)\n",
    "mean_rating"
   ]
  },
  {
   "cell_type": "markdown",
   "id": "898d7f2c",
   "metadata": {},
   "source": [
    "Let's create a new column with the replaced values of the Rating column."
   ]
  },
  {
   "cell_type": "code",
   "execution_count": null,
   "id": "d44b364c",
   "metadata": {
    "scrolled": true
   },
   "outputs": [],
   "source": [
    "# Replace missing values with the mean\n",
    "new_ratings = imdb[\"Rating\"].replace(to_replace=\"****\", \n",
    "                                     value=mean_rating)\n",
    "new_ratings.head()"
   ]
  },
  {
   "cell_type": "code",
   "execution_count": null,
   "id": "b8e31bd3",
   "metadata": {},
   "outputs": [],
   "source": [
    "# Create the new column with the filled Rating\n",
    "imdb[\"Rating2\"] = new_ratings.astype(\"float\")\n",
    "imdb.head()"
   ]
  },
  {
   "cell_type": "code",
   "execution_count": null,
   "id": "a8c79ac0",
   "metadata": {},
   "outputs": [],
   "source": [
    "# Take a look at the changes\n",
    "imdb.loc[imdb[\"Rating\"] == \"****\", \n",
    "         [\"Rating\", \"Rating2\"]].head()"
   ]
  },
  {
   "cell_type": "markdown",
   "id": "b1399929",
   "metadata": {},
   "source": [
    "Before we fill missing values on the Runtime column we need to remove everything that is not a number in its values. It seems that the runtime for all TV shows is in minutes, but we would need some confirmation. We will start by extracting the existing values as we did before."
   ]
  },
  {
   "cell_type": "code",
   "execution_count": null,
   "id": "e778c3ee",
   "metadata": {},
   "outputs": [],
   "source": [
    "# Extract existing values\n",
    "true_runtime = imdb.loc[imdb[\"Runtime\"] != \"****\", \n",
    "                        \"Runtime\"]\n",
    "true_runtime.head()"
   ]
  },
  {
   "cell_type": "markdown",
   "id": "36461258",
   "metadata": {},
   "source": [
    "To check if all existing values match the `<number> min` format we will use a regular expression (regex) with the string function `match()`."
   ]
  },
  {
   "cell_type": "code",
   "execution_count": null,
   "id": "3310e04a",
   "metadata": {},
   "outputs": [],
   "source": [
    "# Check for matches\n",
    "format_match = true_runtime.str.match(\"[0-9]+ min\")\n",
    "format_match.any()"
   ]
  },
  {
   "cell_type": "markdown",
   "id": "d4baa87f",
   "metadata": {},
   "source": [
    "This regular expression matches digits from 0 to 9 (\\[0-9\\]) one or more times (+) followed by a space and the characters \"min\". We will not cover regular expressions, but make sure to check the resources to learn about regular expressions."
   ]
  },
  {
   "cell_type": "markdown",
   "id": "26cc798d",
   "metadata": {},
   "source": [
    "To check if absolutely all values match the format, we will use the `all()` function."
   ]
  },
  {
   "cell_type": "code",
   "execution_count": null,
   "id": "537efabb",
   "metadata": {},
   "outputs": [],
   "source": [
    "# Are all runtime values in minutes?\n",
    "format_match.all()"
   ]
  },
  {
   "cell_type": "markdown",
   "id": "c84568d6",
   "metadata": {},
   "source": [
    "Now we know we may have missed something. Let's look at the values that do not match the format."
   ]
  },
  {
   "cell_type": "code",
   "execution_count": null,
   "id": "d0edd082",
   "metadata": {},
   "outputs": [],
   "source": [
    "# Get values without a match\n",
    "true_runtime[~format_match]"
   ]
  },
  {
   "cell_type": "markdown",
   "id": "f9aca35d",
   "metadata": {},
   "source": [
    "Fortunately, we only missed a comma in our pattern. To compute the mean we will need to remove both: the comma and \"min\"."
   ]
  },
  {
   "cell_type": "code",
   "execution_count": null,
   "id": "fc84677f",
   "metadata": {},
   "outputs": [],
   "source": [
    "# Replace multiple values\n",
    "replace_dict = {\",\": \"\", \n",
    "                \" min\": \"\"}\n",
    "\n",
    "true_runtime_clean = true_runtime.replace(to_replace=replace_dict, \n",
    "                                          regex=True).astype(\"int\")\n",
    "true_runtime_clean.head()"
   ]
  },
  {
   "cell_type": "markdown",
   "id": "24796e39",
   "metadata": {},
   "source": [
    "With this, we can now compute the mean of our runtime values and fill the missing data. Remember we removed the comma and \"min\" to compute the mean of the existing runtimes, but we need to remove those for the real column values too."
   ]
  },
  {
   "cell_type": "code",
   "execution_count": null,
   "id": "34f5bb0e",
   "metadata": {},
   "outputs": [],
   "source": [
    "# Compute the mean runtime\n",
    "mean_runtime = np.mean(true_runtime_clean).round()\n",
    "mean_runtime"
   ]
  },
  {
   "cell_type": "code",
   "execution_count": null,
   "id": "5357ff10",
   "metadata": {},
   "outputs": [],
   "source": [
    "# Replace missing values with the mean\n",
    "replace_dict = {\",\": \"\", \n",
    "                \" min\": \"\", \n",
    "                \"\\*\\*\\*\\*\": mean_runtime}\n",
    "\n",
    "new_runtimes = imdb[\"Runtime\"].replace(to_replace=replace_dict, \n",
    "                                       regex=True)\n",
    "new_runtimes.head()"
   ]
  },
  {
   "cell_type": "code",
   "execution_count": null,
   "id": "eee65340",
   "metadata": {},
   "outputs": [],
   "source": [
    "# Create a new column with the imputed runtimes\n",
    "imdb[\"Runtime2\"] = new_runtimes.astype(\"int\")\n",
    "imdb.head()"
   ]
  },
  {
   "cell_type": "markdown",
   "id": "1349f278",
   "metadata": {},
   "source": [
    "Additionally, if we were to select TV shows with a Release Year and End Year, we can subset our data using the `isna()` function."
   ]
  },
  {
   "cell_type": "code",
   "execution_count": null,
   "id": "171de7b3",
   "metadata": {
    "scrolled": true
   },
   "outputs": [],
   "source": [
    "# Select finished shows\n",
    "finished_shows = imdb[(~imdb[\"Release Year\"].isna()) & \n",
    "                      (~imdb[\"End Year\"].isna())]\n",
    "finished_shows.info()"
   ]
  },
  {
   "cell_type": "code",
   "execution_count": null,
   "id": "d6851651",
   "metadata": {},
   "outputs": [],
   "source": [
    "imdb.info()"
   ]
  },
  {
   "cell_type": "code",
   "execution_count": null,
   "id": "cefe0c69",
   "metadata": {},
   "outputs": [],
   "source": [
    "from sklearn.linear_model import LinearRegression\n",
    "\n",
    "# Prepare the inputs\n",
    "X = np.array(imdb[\"Runtime2\"]).reshape(-1, 1)\n",
    "y = np.array(imdb[\"Rating2\"]).reshape(-1, 1)\n",
    "\n",
    "# Linear regression model\n",
    "regr = LinearRegression()\n",
    "regr.fit(X, y)"
   ]
  },
  {
   "cell_type": "code",
   "execution_count": null,
   "id": "a2bde23c",
   "metadata": {},
   "outputs": [],
   "source": [
    "import matplotlib.pyplot as plt\n",
    "import numpy as np\n",
    "from sklearn.linear_model import LinearRegression\n",
    "\n",
    "# Prepare the inputs\n",
    "X = np.array(imdb[\"Runtime2\"]).reshape(-1, 1)\n",
    "y = np.array(imdb[\"Rating2\"]).reshape(-1, 1)\n",
    "\n",
    "# Linear regression model\n",
    "regr = LinearRegression()\n",
    "regr.fit(X, y)\n",
    "\n",
    "# Make predictions using the testing set\n",
    "y_pred = regr.predict(X)\n",
    "\n",
    "# Plot outputs\n",
    "plt.scatter(X, y,  color='black', label='Original data')\n",
    "plt.plot(X, y_pred, color='blue', linewidth=3, label='Fitted line')\n",
    "\n",
    "plt.legend() \n",
    "#plt.xticks(()) # no ticks\n",
    "#plt.yticks(())\n",
    "\n",
    "plt.savefig('regression_plot.png')\n",
    "\n",
    "plt.show()"
   ]
  },
  {
   "cell_type": "markdown",
   "id": "506180cd",
   "metadata": {},
   "source": [
    "<div class=\"alert alert-block alert-warning\">\n",
    "    <b>Note:</b> You can also drop columns with NaN using the <code>dropna()</code> function with the subset argument.\n",
    "</div>"
   ]
  },
  {
   "cell_type": "markdown",
   "id": "bb81dc58",
   "metadata": {},
   "source": [
    "## Writing files\n",
    "\n",
    "Finally, writing our results to a file may be necessary to share our work or continue the analysis elsewhere. With Pandas we can write DataFrames to CSV, Excel and other file formats."
   ]
  },
  {
   "cell_type": "code",
   "execution_count": null,
   "id": "2c62732c",
   "metadata": {},
   "outputs": [],
   "source": [
    "# Write our DataFrame to CSV\n",
    "finished_shows.to_csv(\"data/finished_shows.csv\", \n",
    "                      index=False)"
   ]
  },
  {
   "cell_type": "markdown",
   "id": "1c132e6a",
   "metadata": {},
   "source": [
    "<div class=\"alert alert-block alert-success\">\n",
    "    <b>Hands-on:</b> Select those athletes that won a medal and save this to the variable \"medalists\". Write this new DataFrame to an Excel file called \"olympic_medalists.xlsx\" using the <code>to_excel()</code> method. Make sure to store this inside the \"data/\" folder.\n",
    "</div>"
   ]
  },
  {
   "cell_type": "code",
   "execution_count": null,
   "id": "7baecf93",
   "metadata": {},
   "outputs": [],
   "source": [
    "# Subset the happiness2019 DataFrame\n",
    "\n",
    "# Write to Excel\n"
   ]
  },
  {
   "cell_type": "markdown",
   "id": "54eccdda",
   "metadata": {},
   "source": [
    "## Download your notebook\n",
    "\n",
    "![](https://raw.githubusercontent.com/CMC-QCL/python-data-manipulation/main/imgs/jhub_shutdown.png)\n",
    "\n",
    "![](https://raw.githubusercontent.com/CMC-QCL/python-data-manipulation/main/imgs/jhub_download.png)"
   ]
  },
  {
   "cell_type": "markdown",
   "id": "53d2003a",
   "metadata": {},
   "source": [
    "## Resources\n",
    "\n",
    "More about Pandas\n",
    "* Pandas documentation (https://pandas.pydata.org/docs/user_guide/10min.html)\n",
    "* Expand your skills (https://www.kaggle.com/learn/pandas)\n",
    "* More on Pandas (https://realpython.com/pandas-python-explore-dataset/)\n",
    "\n",
    "Imputation methods:\n",
    "* Flexible Imputation of Missing Data by Stef van Buuren (https://stefvanbuuren.name/fimd/) - Code examples in R\n",
    "* Scikit-learn documentation (https://scikit-learn.org/stable/modules/impute.html)\n",
    "\n",
    "Learn about regular expressions:\n",
    "* Regular expressions in Python (https://realpython.com/regex-python/)\n",
    "* Build and test regular expressions (https://regex101.com/)\n",
    "* Regex cheat sheet (https://www.rexegg.com/regex-quickstart.html)\n",
    "\n",
    "Finally, tools change:\n",
    "* Pandas vs. Polars (https://studioterabyte.nl/en/blog/polars-vs-pandas)\n",
    "* Polars tutorial (https://www.codemag.com/Article/2212051/Using-the-Polars-DataFrame-Library)"
   ]
  }
 ],
 "metadata": {
  "kernelspec": {
   "display_name": "Python 3 (ipykernel)",
   "language": "python",
   "name": "python3"
  },
  "language_info": {
   "codemirror_mode": {
    "name": "ipython",
    "version": 3
   },
   "file_extension": ".py",
   "mimetype": "text/x-python",
   "name": "python",
   "nbconvert_exporter": "python",
   "pygments_lexer": "ipython3",
   "version": "3.9.7"
  }
 },
 "nbformat": 4,
 "nbformat_minor": 5
}
