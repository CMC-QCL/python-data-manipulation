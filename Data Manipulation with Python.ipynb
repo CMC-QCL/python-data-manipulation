{
 "cells": [
  {
   "cell_type": "markdown",
   "id": "0ef8ad25",
   "metadata": {},
   "source": [
    "# Everyone's watching!\n",
    "\n",
    "# Data Manipulation with Python\n",
    "\n",
    "Welcome to the QCL Workshop **Data Manipulation with Python**.\n",
    "\n",
    "This is a Level 2 Workshop, so I will assume you are familiar with the topics covered in the **Practical Programming with Python** Workshop (Level 1):\n",
    "\n",
    "* Basics of Jupyter notebook\n",
    "* Variables\n",
    "* Functions\n",
    "* Lists and dictionaries\n",
    "* For loops\n",
    "* Conditional statements\n",
    "\n",
    "![](imgs/np_pd_logos.png)\n",
    "\n",
    "By the end of this workshop you will be able to:\n",
    "\n",
    "* Import and export data\n",
    "* Explore and subset DataFrames\n",
    "* \n",
    "\n",
    "## Today's data\n",
    "\n",
    "Today's data was taken from [Kaggle](https://www.kaggle.com/). The dataset was scrapped from [IMDb](https://www.imdb.com/), a website that contains information about movies and TV shows. Registered users' votes are then summarized as their rating.\n",
    "\n",
    "The goal for today will be to explore and clean the IMDb's top [50,000 TV shows](https://www.kaggle.com/datasets/muralidharbhusal/50000-imdb-tv-and-web-series) dataset."
   ]
  },
  {
   "cell_type": "markdown",
   "id": "830cde8c",
   "metadata": {},
   "source": [
    "## Pandas and Numpy\n",
    "\n",
    "Pandas is a powerful and flexible library used for data exploration and transformation. Pandas is built on top of NumPy and uses DataFrames as its main data structure. NumPy (Numerical Python) provides the tools for efficient numerical computation (e.g. matrix multiplication) and uses multidimensional arrays as its data structure.\n",
    "\n",
    "|                         Pandas                        |                   NumPy                  |\n",
    "|:-----------------------------------------------------:|:----------------------------------------:|\n",
    "|          Uses a 2D data structure (DataFrame)         | Capable of using multidimensional arrays |\n",
    "|               Slower compared with NumPy              |            Faster than Pandas            |\n",
    "| Columns in a DataFrame can be of different data types | Arrays can only be of one data type      |"
   ]
  },
  {
   "cell_type": "markdown",
   "id": "75b4f20f",
   "metadata": {},
   "source": [
    "To use a library in Python, we first need to import it using an `import` statement. For example, we can import NumPy."
   ]
  },
  {
   "cell_type": "code",
   "execution_count": 121,
   "id": "116e311d",
   "metadata": {},
   "outputs": [
    {
     "name": "stdout",
     "output_type": "stream",
     "text": [
      "3.141592653589793\n"
     ]
    }
   ],
   "source": [
    "# Import NumPy\n",
    "import numpy\n",
    "\n",
    "print(numpy.pi)"
   ]
  },
  {
   "cell_type": "code",
   "execution_count": 122,
   "id": "178ab9f3",
   "metadata": {},
   "outputs": [
    {
     "name": "stdout",
     "output_type": "stream",
     "text": [
      "3.141592653589793\n"
     ]
    }
   ],
   "source": [
    "# Import with an alias\n",
    "import numpy as np\n",
    "\n",
    "print(np.pi)"
   ]
  },
  {
   "cell_type": "markdown",
   "id": "17d6f479",
   "metadata": {},
   "source": [
    "## Pandas DataFrames\n",
    "\n",
    "A DataFrame is a 2D data structure where each column can be of a different type. Both, rows and columns are labeled.\n",
    "\n",
    "### Create a DataFrame\n",
    "\n",
    "One way to construct a DataFrame is by using a dictionary."
   ]
  },
  {
   "cell_type": "code",
   "execution_count": 2,
   "id": "07d49f7a",
   "metadata": {},
   "outputs": [
    {
     "name": "stdout",
     "output_type": "stream",
     "text": [
      "             Title  Release Year  Rating\n",
      "0        Wednesday          2022     8.2\n",
      "1  The White Lotus          2021     7.9\n"
     ]
    }
   ],
   "source": [
    "import pandas as pd\n",
    "\n",
    "# Create a dictionary\n",
    "data_dict = {'Title': ['Wednesday', 'The White Lotus'], \n",
    "             'Release Year': [2022, 2021], \n",
    "             'Rating': [8.2, 7.9]}\n",
    "\n",
    "# Create the DataFrame\n",
    "df = pd.DataFrame(data_dict)\n",
    "print(df)"
   ]
  },
  {
   "cell_type": "markdown",
   "id": "5151b667",
   "metadata": {},
   "source": [
    "Creating DataFrames by hand is useful for testing purposes. However, in most cases we will need to read our data from a CSV (Comma Separated Values) file or any other file format."
   ]
  },
  {
   "cell_type": "markdown",
   "id": "3e1ce7c1",
   "metadata": {},
   "source": [
    "### Importing data\n",
    "\n",
    "Pandas has many functions to import data from different sources. For example, we can read CSV files using the `read_csv()` function."
   ]
  },
  {
   "cell_type": "code",
   "execution_count": 3,
   "id": "aae87652",
   "metadata": {},
   "outputs": [],
   "source": [
    "# Read today's data\n",
    "imdb = pd.read_csv(\"data/imdb_tv_series.csv\")"
   ]
  },
  {
   "cell_type": "markdown",
   "id": "c2e7dde1",
   "metadata": {},
   "source": [
    "<div class=\"alert alert-block alert-warning\">\n",
    "    <b>Note:</b> Pandas also has functions to read Excel files (<code>read_excel()</code>) and even SQL files (<code>read_sql()</code>).\n",
    "</div>"
   ]
  },
  {
   "cell_type": "markdown",
   "id": "6a5d0e14",
   "metadata": {},
   "source": [
    "### Exploring your DataFrame\n",
    "\n",
    "The IMDb dataset is considerably larger than our first DataFrame which is why printing the whole thing is not recommended."
   ]
  },
  {
   "cell_type": "code",
   "execution_count": 125,
   "id": "8a258e15",
   "metadata": {},
   "outputs": [
    {
     "name": "stdout",
     "output_type": "stream",
     "text": [
      "                                           Title  Release Year  End Year  \\\n",
      "0                                      Wednesday        2022.0       NaN   \n",
      "1                                    Yellowstone        2018.0       NaN   \n",
      "2                                The White Lotus        2021.0    2023.0   \n",
      "3                                           1923        2022.0    2023.0   \n",
      "4                                      Jack Ryan        2018.0       NaN   \n",
      "...                                          ...           ...       ...   \n",
      "49995          Law & Order: Special Victims Unit        1999.0       NaN   \n",
      "49996                                 Doctor Who        2005.0       NaN   \n",
      "49997  The Lord of the Rings: The Rings of Power        2022.0       NaN   \n",
      "49998                                   The Bear        2022.0       NaN   \n",
      "49999                               Supernatural        2005.0    2020.0   \n",
      "\n",
      "      Rating                                               Cast Runtime  \\\n",
      "0        8.2  Jenna Ortega, Hunter Doohan, Percy Hynes White...  45 min   \n",
      "1        8.7  Kevin Costner, Luke Grimes, Kelly Reilly, Wes ...  60 min   \n",
      "2        7.9  Jennifer Coolidge, Jon Gries, F. Murray Abraha...  60 min   \n",
      "3        8.6  Harrison Ford, Helen Mirren, Brandon Sklenar, ...  60 min   \n",
      "4          8  John Krasinski, Wendell Pierce, Michael Kelly,...  60 min   \n",
      "...      ...                                                ...     ...   \n",
      "49995    8.1  Mariska Hargitay, Christopher Meloni, Ice-T, D...  60 min   \n",
      "49996    8.6  Jodie Whittaker, Peter Capaldi, Pearl Mackie, ...  45 min   \n",
      "49997    6.9  Morfydd Clark, Ismael Cruz Cordova, Charlie Vi...    ****   \n",
      "49998    8.4  Jeremy Allen White, Ebon Moss-Bachrach, Ayo Ed...  30 min   \n",
      "49999    8.4  Jared Padalecki, Jensen Ackles, Jim Beaver, Mi...  44 min   \n",
      "\n",
      "                          Genre  \n",
      "0        Comedy, Crime, Fantasy  \n",
      "1                Drama, Western  \n",
      "2                 Comedy, Drama  \n",
      "3                Drama, Western  \n",
      "4       Action, Drama, Thriller  \n",
      "...                         ...  \n",
      "49995     Crime, Drama, Mystery  \n",
      "49996  Adventure, Drama, Sci-Fi  \n",
      "49997  Action, Adventure, Drama  \n",
      "49998             Comedy, Drama  \n",
      "49999    Drama, Fantasy, Horror  \n",
      "\n",
      "[50000 rows x 7 columns]\n"
     ]
    }
   ],
   "source": [
    "# Print the IMDB DataFrame\n",
    "print(imdb)"
   ]
  },
  {
   "cell_type": "markdown",
   "id": "60b1e765",
   "metadata": {},
   "source": [
    "However, we can explore our dataset using some useful Pandas functions. The `head()` function will print the first 5 rows of our DataFrame by default."
   ]
  },
  {
   "cell_type": "code",
   "execution_count": 126,
   "id": "7a1aac61",
   "metadata": {},
   "outputs": [
    {
     "data": {
      "text/html": [
       "<div>\n",
       "<style scoped>\n",
       "    .dataframe tbody tr th:only-of-type {\n",
       "        vertical-align: middle;\n",
       "    }\n",
       "\n",
       "    .dataframe tbody tr th {\n",
       "        vertical-align: top;\n",
       "    }\n",
       "\n",
       "    .dataframe thead th {\n",
       "        text-align: right;\n",
       "    }\n",
       "</style>\n",
       "<table border=\"1\" class=\"dataframe\">\n",
       "  <thead>\n",
       "    <tr style=\"text-align: right;\">\n",
       "      <th></th>\n",
       "      <th>Title</th>\n",
       "      <th>Release Year</th>\n",
       "      <th>End Year</th>\n",
       "      <th>Rating</th>\n",
       "      <th>Cast</th>\n",
       "      <th>Runtime</th>\n",
       "      <th>Genre</th>\n",
       "    </tr>\n",
       "  </thead>\n",
       "  <tbody>\n",
       "    <tr>\n",
       "      <th>0</th>\n",
       "      <td>Wednesday</td>\n",
       "      <td>2022.0</td>\n",
       "      <td>NaN</td>\n",
       "      <td>8.2</td>\n",
       "      <td>Jenna Ortega, Hunter Doohan, Percy Hynes White...</td>\n",
       "      <td>45 min</td>\n",
       "      <td>Comedy, Crime, Fantasy</td>\n",
       "    </tr>\n",
       "    <tr>\n",
       "      <th>1</th>\n",
       "      <td>Yellowstone</td>\n",
       "      <td>2018.0</td>\n",
       "      <td>NaN</td>\n",
       "      <td>8.7</td>\n",
       "      <td>Kevin Costner, Luke Grimes, Kelly Reilly, Wes ...</td>\n",
       "      <td>60 min</td>\n",
       "      <td>Drama, Western</td>\n",
       "    </tr>\n",
       "    <tr>\n",
       "      <th>2</th>\n",
       "      <td>The White Lotus</td>\n",
       "      <td>2021.0</td>\n",
       "      <td>2023.0</td>\n",
       "      <td>7.9</td>\n",
       "      <td>Jennifer Coolidge, Jon Gries, F. Murray Abraha...</td>\n",
       "      <td>60 min</td>\n",
       "      <td>Comedy, Drama</td>\n",
       "    </tr>\n",
       "    <tr>\n",
       "      <th>3</th>\n",
       "      <td>1923</td>\n",
       "      <td>2022.0</td>\n",
       "      <td>2023.0</td>\n",
       "      <td>8.6</td>\n",
       "      <td>Harrison Ford, Helen Mirren, Brandon Sklenar, ...</td>\n",
       "      <td>60 min</td>\n",
       "      <td>Drama, Western</td>\n",
       "    </tr>\n",
       "    <tr>\n",
       "      <th>4</th>\n",
       "      <td>Jack Ryan</td>\n",
       "      <td>2018.0</td>\n",
       "      <td>NaN</td>\n",
       "      <td>8</td>\n",
       "      <td>John Krasinski, Wendell Pierce, Michael Kelly,...</td>\n",
       "      <td>60 min</td>\n",
       "      <td>Action, Drama, Thriller</td>\n",
       "    </tr>\n",
       "  </tbody>\n",
       "</table>\n",
       "</div>"
      ],
      "text/plain": [
       "             Title  Release Year  End Year Rating  \\\n",
       "0        Wednesday        2022.0       NaN    8.2   \n",
       "1      Yellowstone        2018.0       NaN    8.7   \n",
       "2  The White Lotus        2021.0    2023.0    7.9   \n",
       "3             1923        2022.0    2023.0    8.6   \n",
       "4        Jack Ryan        2018.0       NaN      8   \n",
       "\n",
       "                                                Cast Runtime  \\\n",
       "0  Jenna Ortega, Hunter Doohan, Percy Hynes White...  45 min   \n",
       "1  Kevin Costner, Luke Grimes, Kelly Reilly, Wes ...  60 min   \n",
       "2  Jennifer Coolidge, Jon Gries, F. Murray Abraha...  60 min   \n",
       "3  Harrison Ford, Helen Mirren, Brandon Sklenar, ...  60 min   \n",
       "4  John Krasinski, Wendell Pierce, Michael Kelly,...  60 min   \n",
       "\n",
       "                     Genre  \n",
       "0   Comedy, Crime, Fantasy  \n",
       "1           Drama, Western  \n",
       "2            Comedy, Drama  \n",
       "3           Drama, Western  \n",
       "4  Action, Drama, Thriller  "
      ]
     },
     "execution_count": 126,
     "metadata": {},
     "output_type": "execute_result"
    }
   ],
   "source": [
    "# First few rows of our DataFrame\n",
    "imdb.head()"
   ]
  },
  {
   "cell_type": "markdown",
   "id": "868703ab",
   "metadata": {},
   "source": [
    "We can also obtain the dimensions of our DataFrame using `shape`."
   ]
  },
  {
   "cell_type": "code",
   "execution_count": 127,
   "id": "88fc866d",
   "metadata": {},
   "outputs": [
    {
     "data": {
      "text/plain": [
       "(50000, 7)"
      ]
     },
     "execution_count": 127,
     "metadata": {},
     "output_type": "execute_result"
    }
   ],
   "source": [
    "# Dimensions of our DataFrame\n",
    "imdb.shape"
   ]
  },
  {
   "cell_type": "markdown",
   "id": "ea01a81a",
   "metadata": {},
   "source": [
    "<div class=\"alert alert-block alert-warning\">\n",
    "    <b>Note:</b> While <code>head()</code> is a method (i.e. a function associated with a Pandas DataFrame), <code>shape</code> is an attribute. This is why we do not use parentheses.\n",
    "</div>"
   ]
  },
  {
   "cell_type": "markdown",
   "id": "04c8dced",
   "metadata": {},
   "source": [
    "We can also access the full list of column names of our DataFrame using `columns`."
   ]
  },
  {
   "cell_type": "code",
   "execution_count": 128,
   "id": "1e64be01",
   "metadata": {},
   "outputs": [
    {
     "data": {
      "text/plain": [
       "Index(['Title', 'Release Year', 'End Year', 'Rating', 'Cast', 'Runtime',\n",
       "       'Genre'],\n",
       "      dtype='object')"
      ]
     },
     "execution_count": 128,
     "metadata": {},
     "output_type": "execute_result"
    }
   ],
   "source": [
    "# Columns of our DataFrame\n",
    "imdb.columns"
   ]
  },
  {
   "cell_type": "markdown",
   "id": "f5d5e0e6",
   "metadata": {},
   "source": [
    "To generate descriptive statistics of our DataFrame, we can use the `describe()` function."
   ]
  },
  {
   "cell_type": "code",
   "execution_count": 129,
   "id": "31d9e07d",
   "metadata": {},
   "outputs": [
    {
     "data": {
      "text/html": [
       "<div>\n",
       "<style scoped>\n",
       "    .dataframe tbody tr th:only-of-type {\n",
       "        vertical-align: middle;\n",
       "    }\n",
       "\n",
       "    .dataframe tbody tr th {\n",
       "        vertical-align: top;\n",
       "    }\n",
       "\n",
       "    .dataframe thead th {\n",
       "        text-align: right;\n",
       "    }\n",
       "</style>\n",
       "<table border=\"1\" class=\"dataframe\">\n",
       "  <thead>\n",
       "    <tr style=\"text-align: right;\">\n",
       "      <th></th>\n",
       "      <th>Release Year</th>\n",
       "      <th>End Year</th>\n",
       "    </tr>\n",
       "  </thead>\n",
       "  <tbody>\n",
       "    <tr>\n",
       "      <th>count</th>\n",
       "      <td>49791.000000</td>\n",
       "      <td>17410.000000</td>\n",
       "    </tr>\n",
       "    <tr>\n",
       "      <th>mean</th>\n",
       "      <td>2014.403587</td>\n",
       "      <td>2012.677771</td>\n",
       "    </tr>\n",
       "    <tr>\n",
       "      <th>std</th>\n",
       "      <td>12.131611</td>\n",
       "      <td>15.465337</td>\n",
       "    </tr>\n",
       "    <tr>\n",
       "      <th>min</th>\n",
       "      <td>1930.000000</td>\n",
       "      <td>1953.000000</td>\n",
       "    </tr>\n",
       "    <tr>\n",
       "      <th>25%</th>\n",
       "      <td>2011.000000</td>\n",
       "      <td>2008.000000</td>\n",
       "    </tr>\n",
       "    <tr>\n",
       "      <th>50%</th>\n",
       "      <td>2020.000000</td>\n",
       "      <td>2020.000000</td>\n",
       "    </tr>\n",
       "    <tr>\n",
       "      <th>75%</th>\n",
       "      <td>2022.000000</td>\n",
       "      <td>2022.000000</td>\n",
       "    </tr>\n",
       "    <tr>\n",
       "      <th>max</th>\n",
       "      <td>2024.000000</td>\n",
       "      <td>2023.000000</td>\n",
       "    </tr>\n",
       "  </tbody>\n",
       "</table>\n",
       "</div>"
      ],
      "text/plain": [
       "       Release Year      End Year\n",
       "count  49791.000000  17410.000000\n",
       "mean    2014.403587   2012.677771\n",
       "std       12.131611     15.465337\n",
       "min     1930.000000   1953.000000\n",
       "25%     2011.000000   2008.000000\n",
       "50%     2020.000000   2020.000000\n",
       "75%     2022.000000   2022.000000\n",
       "max     2024.000000   2023.000000"
      ]
     },
     "execution_count": 129,
     "metadata": {},
     "output_type": "execute_result"
    }
   ],
   "source": [
    "# Descriptive statistics of our DataFrame\n",
    "imdb.describe()"
   ]
  },
  {
   "cell_type": "markdown",
   "id": "e28d3eab",
   "metadata": {},
   "source": [
    "Notice that `describe()`, by default, only gives us information about the release and end years."
   ]
  },
  {
   "cell_type": "markdown",
   "id": "f56705db",
   "metadata": {},
   "source": [
    "The `info()` function prints a summary  of the DataFrame including the columns' data types (Dtype) and a Non-Null count."
   ]
  },
  {
   "cell_type": "code",
   "execution_count": 130,
   "id": "a3466e82",
   "metadata": {},
   "outputs": [
    {
     "name": "stdout",
     "output_type": "stream",
     "text": [
      "<class 'pandas.core.frame.DataFrame'>\n",
      "RangeIndex: 50000 entries, 0 to 49999\n",
      "Data columns (total 7 columns):\n",
      " #   Column        Non-Null Count  Dtype  \n",
      "---  ------        --------------  -----  \n",
      " 0   Title         50000 non-null  object \n",
      " 1   Release Year  49791 non-null  float64\n",
      " 2   End Year      17410 non-null  float64\n",
      " 3   Rating        50000 non-null  object \n",
      " 4   Cast          49909 non-null  object \n",
      " 5   Runtime       50000 non-null  object \n",
      " 6   Genre         50000 non-null  object \n",
      "dtypes: float64(2), object(5)\n",
      "memory usage: 2.7+ MB\n"
     ]
    }
   ],
   "source": [
    "# Summary of our DataFrame\n",
    "imdb.info()"
   ]
  },
  {
   "cell_type": "markdown",
   "id": "e4609fa1",
   "metadata": {},
   "source": [
    "We can see from this output that there are some missing values in our Release Year, End Year and Cast columns. We will deal with this later.\n",
    "\n",
    "Some of the Pandas data types you may encounter are:\n",
    "\n",
    "| Pandas dtype |                     Usage                    |\n",
    "|:------------:|:--------------------------------------------:|\n",
    "|    object    | Text or mixed numeric and non-numeric values |\n",
    "|     int64    |                Integer numbers               |\n",
    "|    float64   |            Floating point numbers            |\n",
    "|     bool     |               True/False values              |"
   ]
  },
  {
   "cell_type": "markdown",
   "id": "2a21bf31",
   "metadata": {},
   "source": [
    "These functions give us general information about our data. However, we can also explore subsets of our data."
   ]
  },
  {
   "cell_type": "markdown",
   "id": "052411a2",
   "metadata": {},
   "source": [
    "### Subsetting your DataFrame\n",
    "\n",
    "We can select columns of the DataFrame using the column name"
   ]
  },
  {
   "cell_type": "code",
   "execution_count": 131,
   "id": "37893b8a",
   "metadata": {},
   "outputs": [
    {
     "data": {
      "text/plain": [
       "0                                        Wednesday\n",
       "1                                      Yellowstone\n",
       "2                                  The White Lotus\n",
       "3                                             1923\n",
       "4                                        Jack Ryan\n",
       "                           ...                    \n",
       "49995            Law & Order: Special Victims Unit\n",
       "49996                                   Doctor Who\n",
       "49997    The Lord of the Rings: The Rings of Power\n",
       "49998                                     The Bear\n",
       "49999                                 Supernatural\n",
       "Name: Title, Length: 50000, dtype: object"
      ]
     },
     "execution_count": 131,
     "metadata": {},
     "output_type": "execute_result"
    }
   ],
   "source": [
    "# Select the titles\n",
    "imdb['Title']"
   ]
  },
  {
   "cell_type": "markdown",
   "id": "e5dd7202",
   "metadata": {},
   "source": [
    "<div class=\"alert alert-block alert-warning\">\n",
    "<b>Note:</b> Each column in a DataFrame is a Pandas Series. We can think of a DataFrame as a dictionary of Pandas Series.\n",
    "</div>"
   ]
  },
  {
   "cell_type": "markdown",
   "id": "0de69286",
   "metadata": {},
   "source": [
    "If we do not want all the rows we can use the `head()` function at the end. We can also select multiple columns by using a list of column names."
   ]
  },
  {
   "cell_type": "code",
   "execution_count": 132,
   "id": "8b1b5df4",
   "metadata": {},
   "outputs": [
    {
     "data": {
      "text/html": [
       "<div>\n",
       "<style scoped>\n",
       "    .dataframe tbody tr th:only-of-type {\n",
       "        vertical-align: middle;\n",
       "    }\n",
       "\n",
       "    .dataframe tbody tr th {\n",
       "        vertical-align: top;\n",
       "    }\n",
       "\n",
       "    .dataframe thead th {\n",
       "        text-align: right;\n",
       "    }\n",
       "</style>\n",
       "<table border=\"1\" class=\"dataframe\">\n",
       "  <thead>\n",
       "    <tr style=\"text-align: right;\">\n",
       "      <th></th>\n",
       "      <th>Title</th>\n",
       "      <th>Release Year</th>\n",
       "      <th>Rating</th>\n",
       "    </tr>\n",
       "  </thead>\n",
       "  <tbody>\n",
       "    <tr>\n",
       "      <th>0</th>\n",
       "      <td>Wednesday</td>\n",
       "      <td>2022.0</td>\n",
       "      <td>8.2</td>\n",
       "    </tr>\n",
       "    <tr>\n",
       "      <th>1</th>\n",
       "      <td>Yellowstone</td>\n",
       "      <td>2018.0</td>\n",
       "      <td>8.7</td>\n",
       "    </tr>\n",
       "    <tr>\n",
       "      <th>2</th>\n",
       "      <td>The White Lotus</td>\n",
       "      <td>2021.0</td>\n",
       "      <td>7.9</td>\n",
       "    </tr>\n",
       "    <tr>\n",
       "      <th>3</th>\n",
       "      <td>1923</td>\n",
       "      <td>2022.0</td>\n",
       "      <td>8.6</td>\n",
       "    </tr>\n",
       "    <tr>\n",
       "      <th>4</th>\n",
       "      <td>Jack Ryan</td>\n",
       "      <td>2018.0</td>\n",
       "      <td>8</td>\n",
       "    </tr>\n",
       "  </tbody>\n",
       "</table>\n",
       "</div>"
      ],
      "text/plain": [
       "             Title  Release Year Rating\n",
       "0        Wednesday        2022.0    8.2\n",
       "1      Yellowstone        2018.0    8.7\n",
       "2  The White Lotus        2021.0    7.9\n",
       "3             1923        2022.0    8.6\n",
       "4        Jack Ryan        2018.0      8"
      ]
     },
     "execution_count": 132,
     "metadata": {},
     "output_type": "execute_result"
    }
   ],
   "source": [
    "# Select multiple columns\n",
    "imdb[['Title', 'Release Year', 'Rating']].head()"
   ]
  },
  {
   "cell_type": "markdown",
   "id": "96e3cb74",
   "metadata": {},
   "source": [
    "Sometimes, it is useful to store the list of columns we want to access on a separate variable."
   ]
  },
  {
   "cell_type": "code",
   "execution_count": 133,
   "id": "9fbdcbbf",
   "metadata": {},
   "outputs": [
    {
     "data": {
      "text/html": [
       "<div>\n",
       "<style scoped>\n",
       "    .dataframe tbody tr th:only-of-type {\n",
       "        vertical-align: middle;\n",
       "    }\n",
       "\n",
       "    .dataframe tbody tr th {\n",
       "        vertical-align: top;\n",
       "    }\n",
       "\n",
       "    .dataframe thead th {\n",
       "        text-align: right;\n",
       "    }\n",
       "</style>\n",
       "<table border=\"1\" class=\"dataframe\">\n",
       "  <thead>\n",
       "    <tr style=\"text-align: right;\">\n",
       "      <th></th>\n",
       "      <th>Title</th>\n",
       "      <th>Release Year</th>\n",
       "      <th>Rating</th>\n",
       "    </tr>\n",
       "  </thead>\n",
       "  <tbody>\n",
       "    <tr>\n",
       "      <th>0</th>\n",
       "      <td>Wednesday</td>\n",
       "      <td>2022.0</td>\n",
       "      <td>8.2</td>\n",
       "    </tr>\n",
       "    <tr>\n",
       "      <th>1</th>\n",
       "      <td>Yellowstone</td>\n",
       "      <td>2018.0</td>\n",
       "      <td>8.7</td>\n",
       "    </tr>\n",
       "    <tr>\n",
       "      <th>2</th>\n",
       "      <td>The White Lotus</td>\n",
       "      <td>2021.0</td>\n",
       "      <td>7.9</td>\n",
       "    </tr>\n",
       "    <tr>\n",
       "      <th>3</th>\n",
       "      <td>1923</td>\n",
       "      <td>2022.0</td>\n",
       "      <td>8.6</td>\n",
       "    </tr>\n",
       "    <tr>\n",
       "      <th>4</th>\n",
       "      <td>Jack Ryan</td>\n",
       "      <td>2018.0</td>\n",
       "      <td>8</td>\n",
       "    </tr>\n",
       "  </tbody>\n",
       "</table>\n",
       "</div>"
      ],
      "text/plain": [
       "             Title  Release Year Rating\n",
       "0        Wednesday        2022.0    8.2\n",
       "1      Yellowstone        2018.0    8.7\n",
       "2  The White Lotus        2021.0    7.9\n",
       "3             1923        2022.0    8.6\n",
       "4        Jack Ryan        2018.0      8"
      ]
     },
     "execution_count": 133,
     "metadata": {},
     "output_type": "execute_result"
    }
   ],
   "source": [
    "# Select multiple columns\n",
    "cols = ['Title', 'Release Year', 'Rating']\n",
    "imdb[cols].head()"
   ]
  },
  {
   "cell_type": "markdown",
   "id": "d59e5308",
   "metadata": {},
   "source": [
    "We can also select rows of our DataFrame based on a condition. Using comparison operators on a column returns a column of the same length with boolean values."
   ]
  },
  {
   "cell_type": "code",
   "execution_count": 134,
   "id": "bc82cca3",
   "metadata": {},
   "outputs": [
    {
     "data": {
      "text/plain": [
       "0         True\n",
       "1         True\n",
       "2         True\n",
       "3         True\n",
       "4         True\n",
       "         ...  \n",
       "49995    False\n",
       "49996    False\n",
       "49997     True\n",
       "49998     True\n",
       "49999    False\n",
       "Name: Release Year, Length: 50000, dtype: bool"
      ]
     },
     "execution_count": 134,
     "metadata": {},
     "output_type": "execute_result"
    }
   ],
   "source": [
    "# Condition on Release Year\n",
    "imdb['Release Year'] > 2010"
   ]
  },
  {
   "cell_type": "markdown",
   "id": "4d8206cf",
   "metadata": {},
   "source": [
    "We can use this to select only the rows of those TV shows that were released after 2010."
   ]
  },
  {
   "cell_type": "code",
   "execution_count": 135,
   "id": "498a0bcd",
   "metadata": {},
   "outputs": [
    {
     "data": {
      "text/html": [
       "<div>\n",
       "<style scoped>\n",
       "    .dataframe tbody tr th:only-of-type {\n",
       "        vertical-align: middle;\n",
       "    }\n",
       "\n",
       "    .dataframe tbody tr th {\n",
       "        vertical-align: top;\n",
       "    }\n",
       "\n",
       "    .dataframe thead th {\n",
       "        text-align: right;\n",
       "    }\n",
       "</style>\n",
       "<table border=\"1\" class=\"dataframe\">\n",
       "  <thead>\n",
       "    <tr style=\"text-align: right;\">\n",
       "      <th></th>\n",
       "      <th>Title</th>\n",
       "      <th>Release Year</th>\n",
       "      <th>End Year</th>\n",
       "      <th>Rating</th>\n",
       "      <th>Cast</th>\n",
       "      <th>Runtime</th>\n",
       "      <th>Genre</th>\n",
       "    </tr>\n",
       "  </thead>\n",
       "  <tbody>\n",
       "    <tr>\n",
       "      <th>0</th>\n",
       "      <td>Wednesday</td>\n",
       "      <td>2022.0</td>\n",
       "      <td>NaN</td>\n",
       "      <td>8.2</td>\n",
       "      <td>Jenna Ortega, Hunter Doohan, Percy Hynes White...</td>\n",
       "      <td>45 min</td>\n",
       "      <td>Comedy, Crime, Fantasy</td>\n",
       "    </tr>\n",
       "    <tr>\n",
       "      <th>1</th>\n",
       "      <td>Yellowstone</td>\n",
       "      <td>2018.0</td>\n",
       "      <td>NaN</td>\n",
       "      <td>8.7</td>\n",
       "      <td>Kevin Costner, Luke Grimes, Kelly Reilly, Wes ...</td>\n",
       "      <td>60 min</td>\n",
       "      <td>Drama, Western</td>\n",
       "    </tr>\n",
       "    <tr>\n",
       "      <th>2</th>\n",
       "      <td>The White Lotus</td>\n",
       "      <td>2021.0</td>\n",
       "      <td>2023.0</td>\n",
       "      <td>7.9</td>\n",
       "      <td>Jennifer Coolidge, Jon Gries, F. Murray Abraha...</td>\n",
       "      <td>60 min</td>\n",
       "      <td>Comedy, Drama</td>\n",
       "    </tr>\n",
       "    <tr>\n",
       "      <th>3</th>\n",
       "      <td>1923</td>\n",
       "      <td>2022.0</td>\n",
       "      <td>2023.0</td>\n",
       "      <td>8.6</td>\n",
       "      <td>Harrison Ford, Helen Mirren, Brandon Sklenar, ...</td>\n",
       "      <td>60 min</td>\n",
       "      <td>Drama, Western</td>\n",
       "    </tr>\n",
       "    <tr>\n",
       "      <th>4</th>\n",
       "      <td>Jack Ryan</td>\n",
       "      <td>2018.0</td>\n",
       "      <td>NaN</td>\n",
       "      <td>8</td>\n",
       "      <td>John Krasinski, Wendell Pierce, Michael Kelly,...</td>\n",
       "      <td>60 min</td>\n",
       "      <td>Action, Drama, Thriller</td>\n",
       "    </tr>\n",
       "  </tbody>\n",
       "</table>\n",
       "</div>"
      ],
      "text/plain": [
       "             Title  Release Year  End Year Rating  \\\n",
       "0        Wednesday        2022.0       NaN    8.2   \n",
       "1      Yellowstone        2018.0       NaN    8.7   \n",
       "2  The White Lotus        2021.0    2023.0    7.9   \n",
       "3             1923        2022.0    2023.0    8.6   \n",
       "4        Jack Ryan        2018.0       NaN      8   \n",
       "\n",
       "                                                Cast Runtime  \\\n",
       "0  Jenna Ortega, Hunter Doohan, Percy Hynes White...  45 min   \n",
       "1  Kevin Costner, Luke Grimes, Kelly Reilly, Wes ...  60 min   \n",
       "2  Jennifer Coolidge, Jon Gries, F. Murray Abraha...  60 min   \n",
       "3  Harrison Ford, Helen Mirren, Brandon Sklenar, ...  60 min   \n",
       "4  John Krasinski, Wendell Pierce, Michael Kelly,...  60 min   \n",
       "\n",
       "                     Genre  \n",
       "0   Comedy, Crime, Fantasy  \n",
       "1           Drama, Western  \n",
       "2            Comedy, Drama  \n",
       "3           Drama, Western  \n",
       "4  Action, Drama, Thriller  "
      ]
     },
     "execution_count": 135,
     "metadata": {},
     "output_type": "execute_result"
    }
   ],
   "source": [
    "# TV shows released after 2010\n",
    "imdb[imdb['Release Year'] > 2010].head()"
   ]
  },
  {
   "cell_type": "markdown",
   "id": "4321fd9e",
   "metadata": {},
   "source": [
    "If instead we wanted to retrieve the TV shows that were released between two years, we can use multiple conditions."
   ]
  },
  {
   "cell_type": "code",
   "execution_count": 136,
   "id": "b7dcb0d9",
   "metadata": {},
   "outputs": [
    {
     "data": {
      "text/html": [
       "<div>\n",
       "<style scoped>\n",
       "    .dataframe tbody tr th:only-of-type {\n",
       "        vertical-align: middle;\n",
       "    }\n",
       "\n",
       "    .dataframe tbody tr th {\n",
       "        vertical-align: top;\n",
       "    }\n",
       "\n",
       "    .dataframe thead th {\n",
       "        text-align: right;\n",
       "    }\n",
       "</style>\n",
       "<table border=\"1\" class=\"dataframe\">\n",
       "  <thead>\n",
       "    <tr style=\"text-align: right;\">\n",
       "      <th></th>\n",
       "      <th>Title</th>\n",
       "      <th>Release Year</th>\n",
       "      <th>End Year</th>\n",
       "      <th>Rating</th>\n",
       "      <th>Cast</th>\n",
       "      <th>Runtime</th>\n",
       "      <th>Genre</th>\n",
       "    </tr>\n",
       "  </thead>\n",
       "  <tbody>\n",
       "    <tr>\n",
       "      <th>12</th>\n",
       "      <td>Game of Thrones</td>\n",
       "      <td>2011.0</td>\n",
       "      <td>2019.0</td>\n",
       "      <td>9.2</td>\n",
       "      <td>Emilia Clarke, Peter Dinklage, Kit Harington, ...</td>\n",
       "      <td>57 min</td>\n",
       "      <td>Action, Adventure, Drama</td>\n",
       "    </tr>\n",
       "    <tr>\n",
       "      <th>20</th>\n",
       "      <td>Happy Valley</td>\n",
       "      <td>2014.0</td>\n",
       "      <td>2023.0</td>\n",
       "      <td>8.5</td>\n",
       "      <td>Sarah Lancashire, Siobhan Finneran, Charlie Mu...</td>\n",
       "      <td>58 min</td>\n",
       "      <td>Crime, Drama, Thriller</td>\n",
       "    </tr>\n",
       "    <tr>\n",
       "      <th>43</th>\n",
       "      <td>Peaky Blinders</td>\n",
       "      <td>2013.0</td>\n",
       "      <td>2022.0</td>\n",
       "      <td>8.8</td>\n",
       "      <td>Cillian Murphy, Paul Anderson, Sophie Rundle, ...</td>\n",
       "      <td>60 min</td>\n",
       "      <td>Crime, Drama</td>\n",
       "    </tr>\n",
       "    <tr>\n",
       "      <th>57</th>\n",
       "      <td>Rick and Morty</td>\n",
       "      <td>2013.0</td>\n",
       "      <td>NaN</td>\n",
       "      <td>9.1</td>\n",
       "      <td>Justin Roiland, Chris Parnell, Spencer Grammer...</td>\n",
       "      <td>23 min</td>\n",
       "      <td>Animation, Adventure, Comedy</td>\n",
       "    </tr>\n",
       "    <tr>\n",
       "      <th>61</th>\n",
       "      <td>American Horror Story</td>\n",
       "      <td>2011.0</td>\n",
       "      <td>NaN</td>\n",
       "      <td>8</td>\n",
       "      <td>Lady Gaga, Kathy Bates, Angela Bassett, Sarah ...</td>\n",
       "      <td>60 min</td>\n",
       "      <td>Drama, Horror, Sci-Fi</td>\n",
       "    </tr>\n",
       "  </tbody>\n",
       "</table>\n",
       "</div>"
      ],
      "text/plain": [
       "                    Title  Release Year  End Year Rating  \\\n",
       "12        Game of Thrones        2011.0    2019.0    9.2   \n",
       "20           Happy Valley        2014.0    2023.0    8.5   \n",
       "43         Peaky Blinders        2013.0    2022.0    8.8   \n",
       "57         Rick and Morty        2013.0       NaN    9.1   \n",
       "61  American Horror Story        2011.0       NaN      8   \n",
       "\n",
       "                                                 Cast Runtime  \\\n",
       "12  Emilia Clarke, Peter Dinklage, Kit Harington, ...  57 min   \n",
       "20  Sarah Lancashire, Siobhan Finneran, Charlie Mu...  58 min   \n",
       "43  Cillian Murphy, Paul Anderson, Sophie Rundle, ...  60 min   \n",
       "57  Justin Roiland, Chris Parnell, Spencer Grammer...  23 min   \n",
       "61  Lady Gaga, Kathy Bates, Angela Bassett, Sarah ...  60 min   \n",
       "\n",
       "                           Genre  \n",
       "12      Action, Adventure, Drama  \n",
       "20        Crime, Drama, Thriller  \n",
       "43                  Crime, Drama  \n",
       "57  Animation, Adventure, Comedy  \n",
       "61         Drama, Horror, Sci-Fi  "
      ]
     },
     "execution_count": 136,
     "metadata": {},
     "output_type": "execute_result"
    }
   ],
   "source": [
    "# Use multiple conditions\n",
    "after_2010 = imdb['Release Year'] > 2010\n",
    "before_2015 = imdb['Release Year'] < 2015\n",
    "imdb[after_2010 & before_2015].head()"
   ]
  },
  {
   "cell_type": "code",
   "execution_count": 137,
   "id": "20cf3c6d",
   "metadata": {},
   "outputs": [
    {
     "data": {
      "text/html": [
       "<div>\n",
       "<style scoped>\n",
       "    .dataframe tbody tr th:only-of-type {\n",
       "        vertical-align: middle;\n",
       "    }\n",
       "\n",
       "    .dataframe tbody tr th {\n",
       "        vertical-align: top;\n",
       "    }\n",
       "\n",
       "    .dataframe thead th {\n",
       "        text-align: right;\n",
       "    }\n",
       "</style>\n",
       "<table border=\"1\" class=\"dataframe\">\n",
       "  <thead>\n",
       "    <tr style=\"text-align: right;\">\n",
       "      <th></th>\n",
       "      <th>Title</th>\n",
       "      <th>Release Year</th>\n",
       "      <th>End Year</th>\n",
       "      <th>Rating</th>\n",
       "      <th>Cast</th>\n",
       "      <th>Runtime</th>\n",
       "      <th>Genre</th>\n",
       "    </tr>\n",
       "  </thead>\n",
       "  <tbody>\n",
       "    <tr>\n",
       "      <th>12</th>\n",
       "      <td>Game of Thrones</td>\n",
       "      <td>2011.0</td>\n",
       "      <td>2019.0</td>\n",
       "      <td>9.2</td>\n",
       "      <td>Emilia Clarke, Peter Dinklage, Kit Harington, ...</td>\n",
       "      <td>57 min</td>\n",
       "      <td>Action, Adventure, Drama</td>\n",
       "    </tr>\n",
       "    <tr>\n",
       "      <th>20</th>\n",
       "      <td>Happy Valley</td>\n",
       "      <td>2014.0</td>\n",
       "      <td>2023.0</td>\n",
       "      <td>8.5</td>\n",
       "      <td>Sarah Lancashire, Siobhan Finneran, Charlie Mu...</td>\n",
       "      <td>58 min</td>\n",
       "      <td>Crime, Drama, Thriller</td>\n",
       "    </tr>\n",
       "    <tr>\n",
       "      <th>43</th>\n",
       "      <td>Peaky Blinders</td>\n",
       "      <td>2013.0</td>\n",
       "      <td>2022.0</td>\n",
       "      <td>8.8</td>\n",
       "      <td>Cillian Murphy, Paul Anderson, Sophie Rundle, ...</td>\n",
       "      <td>60 min</td>\n",
       "      <td>Crime, Drama</td>\n",
       "    </tr>\n",
       "    <tr>\n",
       "      <th>57</th>\n",
       "      <td>Rick and Morty</td>\n",
       "      <td>2013.0</td>\n",
       "      <td>NaN</td>\n",
       "      <td>9.1</td>\n",
       "      <td>Justin Roiland, Chris Parnell, Spencer Grammer...</td>\n",
       "      <td>23 min</td>\n",
       "      <td>Animation, Adventure, Comedy</td>\n",
       "    </tr>\n",
       "    <tr>\n",
       "      <th>61</th>\n",
       "      <td>American Horror Story</td>\n",
       "      <td>2011.0</td>\n",
       "      <td>NaN</td>\n",
       "      <td>8</td>\n",
       "      <td>Lady Gaga, Kathy Bates, Angela Bassett, Sarah ...</td>\n",
       "      <td>60 min</td>\n",
       "      <td>Drama, Horror, Sci-Fi</td>\n",
       "    </tr>\n",
       "  </tbody>\n",
       "</table>\n",
       "</div>"
      ],
      "text/plain": [
       "                    Title  Release Year  End Year Rating  \\\n",
       "12        Game of Thrones        2011.0    2019.0    9.2   \n",
       "20           Happy Valley        2014.0    2023.0    8.5   \n",
       "43         Peaky Blinders        2013.0    2022.0    8.8   \n",
       "57         Rick and Morty        2013.0       NaN    9.1   \n",
       "61  American Horror Story        2011.0       NaN      8   \n",
       "\n",
       "                                                 Cast Runtime  \\\n",
       "12  Emilia Clarke, Peter Dinklage, Kit Harington, ...  57 min   \n",
       "20  Sarah Lancashire, Siobhan Finneran, Charlie Mu...  58 min   \n",
       "43  Cillian Murphy, Paul Anderson, Sophie Rundle, ...  60 min   \n",
       "57  Justin Roiland, Chris Parnell, Spencer Grammer...  23 min   \n",
       "61  Lady Gaga, Kathy Bates, Angela Bassett, Sarah ...  60 min   \n",
       "\n",
       "                           Genre  \n",
       "12      Action, Adventure, Drama  \n",
       "20        Crime, Drama, Thriller  \n",
       "43                  Crime, Drama  \n",
       "57  Animation, Adventure, Comedy  \n",
       "61         Drama, Horror, Sci-Fi  "
      ]
     },
     "execution_count": 137,
     "metadata": {},
     "output_type": "execute_result"
    }
   ],
   "source": [
    "# Alternative syntax\n",
    "imdb[(imdb['Release Year'] > 2010) & (imdb['Release Year'] < 2015)].head()"
   ]
  },
  {
   "cell_type": "markdown",
   "id": "bd763afd",
   "metadata": {},
   "source": [
    "The conditional operators in Pandas are:\n",
    "\n",
    "| Operator | Pandas |\n",
    "|:--------:|:------:|\n",
    "|    and   |    &   |\n",
    "|    or    |   \\|   |\n",
    "|   not    | ~      |"
   ]
  },
  {
   "cell_type": "markdown",
   "id": "ea5cc8fc",
   "metadata": {},
   "source": [
    "To select rows based on text data, we can use the `==` operator."
   ]
  },
  {
   "cell_type": "code",
   "execution_count": 138,
   "id": "118c2a78",
   "metadata": {},
   "outputs": [
    {
     "data": {
      "text/html": [
       "<div>\n",
       "<style scoped>\n",
       "    .dataframe tbody tr th:only-of-type {\n",
       "        vertical-align: middle;\n",
       "    }\n",
       "\n",
       "    .dataframe tbody tr th {\n",
       "        vertical-align: top;\n",
       "    }\n",
       "\n",
       "    .dataframe thead th {\n",
       "        text-align: right;\n",
       "    }\n",
       "</style>\n",
       "<table border=\"1\" class=\"dataframe\">\n",
       "  <thead>\n",
       "    <tr style=\"text-align: right;\">\n",
       "      <th></th>\n",
       "      <th>Title</th>\n",
       "      <th>Release Year</th>\n",
       "      <th>End Year</th>\n",
       "      <th>Rating</th>\n",
       "      <th>Cast</th>\n",
       "      <th>Runtime</th>\n",
       "      <th>Genre</th>\n",
       "    </tr>\n",
       "  </thead>\n",
       "  <tbody>\n",
       "    <tr>\n",
       "      <th>79</th>\n",
       "      <td>Dark</td>\n",
       "      <td>2017.0</td>\n",
       "      <td>2020.0</td>\n",
       "      <td>8.7</td>\n",
       "      <td>Louis Hofmann, Karoline Eichhorn, Lisa Vicari,...</td>\n",
       "      <td>60 min</td>\n",
       "      <td>Crime, Drama, Mystery</td>\n",
       "    </tr>\n",
       "  </tbody>\n",
       "</table>\n",
       "</div>"
      ],
      "text/plain": [
       "   Title  Release Year  End Year Rating  \\\n",
       "79  Dark        2017.0    2020.0    8.7   \n",
       "\n",
       "                                                 Cast Runtime  \\\n",
       "79  Louis Hofmann, Karoline Eichhorn, Lisa Vicari,...  60 min   \n",
       "\n",
       "                    Genre  \n",
       "79  Crime, Drama, Mystery  "
      ]
     },
     "execution_count": 138,
     "metadata": {},
     "output_type": "execute_result"
    }
   ],
   "source": [
    "# Select the row for Dark\n",
    "imdb[imdb['Title'] == 'Dark']"
   ]
  },
  {
   "cell_type": "markdown",
   "id": "0bae6910",
   "metadata": {},
   "source": [
    "If we are using the `==` operator, instead of using multiple conditions to check for equality, we can use the `isin()` function."
   ]
  },
  {
   "cell_type": "code",
   "execution_count": 139,
   "id": "5962d4a4",
   "metadata": {},
   "outputs": [
    {
     "data": {
      "text/html": [
       "<div>\n",
       "<style scoped>\n",
       "    .dataframe tbody tr th:only-of-type {\n",
       "        vertical-align: middle;\n",
       "    }\n",
       "\n",
       "    .dataframe tbody tr th {\n",
       "        vertical-align: top;\n",
       "    }\n",
       "\n",
       "    .dataframe thead th {\n",
       "        text-align: right;\n",
       "    }\n",
       "</style>\n",
       "<table border=\"1\" class=\"dataframe\">\n",
       "  <thead>\n",
       "    <tr style=\"text-align: right;\">\n",
       "      <th></th>\n",
       "      <th>Title</th>\n",
       "      <th>Release Year</th>\n",
       "      <th>End Year</th>\n",
       "      <th>Rating</th>\n",
       "      <th>Cast</th>\n",
       "      <th>Runtime</th>\n",
       "      <th>Genre</th>\n",
       "    </tr>\n",
       "  </thead>\n",
       "  <tbody>\n",
       "    <tr>\n",
       "      <th>54</th>\n",
       "      <td>The Big Bang Theory</td>\n",
       "      <td>2007.0</td>\n",
       "      <td>2019.0</td>\n",
       "      <td>8.2</td>\n",
       "      <td>Johnny Galecki, Jim Parsons, Kaley Cuoco, Simo...</td>\n",
       "      <td>22 min</td>\n",
       "      <td>Comedy, Romance</td>\n",
       "    </tr>\n",
       "    <tr>\n",
       "      <th>79</th>\n",
       "      <td>Dark</td>\n",
       "      <td>2017.0</td>\n",
       "      <td>2020.0</td>\n",
       "      <td>8.7</td>\n",
       "      <td>Louis Hofmann, Karoline Eichhorn, Lisa Vicari,...</td>\n",
       "      <td>60 min</td>\n",
       "      <td>Crime, Drama, Mystery</td>\n",
       "    </tr>\n",
       "  </tbody>\n",
       "</table>\n",
       "</div>"
      ],
      "text/plain": [
       "                  Title  Release Year  End Year Rating  \\\n",
       "54  The Big Bang Theory        2007.0    2019.0    8.2   \n",
       "79                 Dark        2017.0    2020.0    8.7   \n",
       "\n",
       "                                                 Cast Runtime  \\\n",
       "54  Johnny Galecki, Jim Parsons, Kaley Cuoco, Simo...  22 min   \n",
       "79  Louis Hofmann, Karoline Eichhorn, Lisa Vicari,...  60 min   \n",
       "\n",
       "                    Genre  \n",
       "54        Comedy, Romance  \n",
       "79  Crime, Drama, Mystery  "
      ]
     },
     "execution_count": 139,
     "metadata": {},
     "output_type": "execute_result"
    }
   ],
   "source": [
    "# Select multiple titles with conditions\n",
    "imdb[(imdb['Title'] == 'Dark') | (imdb['Title'] == 'The Big Bang Theory')]"
   ]
  },
  {
   "cell_type": "code",
   "execution_count": 140,
   "id": "e78f95c3",
   "metadata": {},
   "outputs": [
    {
     "data": {
      "text/html": [
       "<div>\n",
       "<style scoped>\n",
       "    .dataframe tbody tr th:only-of-type {\n",
       "        vertical-align: middle;\n",
       "    }\n",
       "\n",
       "    .dataframe tbody tr th {\n",
       "        vertical-align: top;\n",
       "    }\n",
       "\n",
       "    .dataframe thead th {\n",
       "        text-align: right;\n",
       "    }\n",
       "</style>\n",
       "<table border=\"1\" class=\"dataframe\">\n",
       "  <thead>\n",
       "    <tr style=\"text-align: right;\">\n",
       "      <th></th>\n",
       "      <th>Title</th>\n",
       "      <th>Release Year</th>\n",
       "      <th>End Year</th>\n",
       "      <th>Rating</th>\n",
       "      <th>Cast</th>\n",
       "      <th>Runtime</th>\n",
       "      <th>Genre</th>\n",
       "    </tr>\n",
       "  </thead>\n",
       "  <tbody>\n",
       "    <tr>\n",
       "      <th>54</th>\n",
       "      <td>The Big Bang Theory</td>\n",
       "      <td>2007.0</td>\n",
       "      <td>2019.0</td>\n",
       "      <td>8.2</td>\n",
       "      <td>Johnny Galecki, Jim Parsons, Kaley Cuoco, Simo...</td>\n",
       "      <td>22 min</td>\n",
       "      <td>Comedy, Romance</td>\n",
       "    </tr>\n",
       "    <tr>\n",
       "      <th>79</th>\n",
       "      <td>Dark</td>\n",
       "      <td>2017.0</td>\n",
       "      <td>2020.0</td>\n",
       "      <td>8.7</td>\n",
       "      <td>Louis Hofmann, Karoline Eichhorn, Lisa Vicari,...</td>\n",
       "      <td>60 min</td>\n",
       "      <td>Crime, Drama, Mystery</td>\n",
       "    </tr>\n",
       "  </tbody>\n",
       "</table>\n",
       "</div>"
      ],
      "text/plain": [
       "                  Title  Release Year  End Year Rating  \\\n",
       "54  The Big Bang Theory        2007.0    2019.0    8.2   \n",
       "79                 Dark        2017.0    2020.0    8.7   \n",
       "\n",
       "                                                 Cast Runtime  \\\n",
       "54  Johnny Galecki, Jim Parsons, Kaley Cuoco, Simo...  22 min   \n",
       "79  Louis Hofmann, Karoline Eichhorn, Lisa Vicari,...  60 min   \n",
       "\n",
       "                    Genre  \n",
       "54        Comedy, Romance  \n",
       "79  Crime, Drama, Mystery  "
      ]
     },
     "execution_count": 140,
     "metadata": {},
     "output_type": "execute_result"
    }
   ],
   "source": [
    "# Select multiple titles with isin()\n",
    "imdb[imdb['Title'].isin(['Dark', 'The Big Bang Theory'])]"
   ]
  },
  {
   "cell_type": "markdown",
   "id": "5a79f345",
   "metadata": {},
   "source": [
    "This also works for any other data type, not just text."
   ]
  },
  {
   "cell_type": "code",
   "execution_count": 141,
   "id": "e2e6824f",
   "metadata": {},
   "outputs": [
    {
     "data": {
      "text/html": [
       "<div>\n",
       "<style scoped>\n",
       "    .dataframe tbody tr th:only-of-type {\n",
       "        vertical-align: middle;\n",
       "    }\n",
       "\n",
       "    .dataframe tbody tr th {\n",
       "        vertical-align: top;\n",
       "    }\n",
       "\n",
       "    .dataframe thead th {\n",
       "        text-align: right;\n",
       "    }\n",
       "</style>\n",
       "<table border=\"1\" class=\"dataframe\">\n",
       "  <thead>\n",
       "    <tr style=\"text-align: right;\">\n",
       "      <th></th>\n",
       "      <th>Title</th>\n",
       "      <th>Release Year</th>\n",
       "      <th>End Year</th>\n",
       "      <th>Rating</th>\n",
       "      <th>Cast</th>\n",
       "      <th>Runtime</th>\n",
       "      <th>Genre</th>\n",
       "    </tr>\n",
       "  </thead>\n",
       "  <tbody>\n",
       "    <tr>\n",
       "      <th>6</th>\n",
       "      <td>Alice in Borderland</td>\n",
       "      <td>2020.0</td>\n",
       "      <td>NaN</td>\n",
       "      <td>7.7</td>\n",
       "      <td>Kento Yamazaki, Tao Tsuchiya, Nijirô Murakami,...</td>\n",
       "      <td>50 min</td>\n",
       "      <td>Action, Drama, Mystery</td>\n",
       "    </tr>\n",
       "    <tr>\n",
       "      <th>11</th>\n",
       "      <td>The Walking Dead</td>\n",
       "      <td>2010.0</td>\n",
       "      <td>2022.0</td>\n",
       "      <td>8.1</td>\n",
       "      <td>Andrew Lincoln, Norman Reedus, Melissa McBride...</td>\n",
       "      <td>44 min</td>\n",
       "      <td>Drama, Horror, Thriller</td>\n",
       "    </tr>\n",
       "    <tr>\n",
       "      <th>13</th>\n",
       "      <td>Emily in Paris</td>\n",
       "      <td>2020.0</td>\n",
       "      <td>NaN</td>\n",
       "      <td>6.9</td>\n",
       "      <td>Lily Collins, Philippine Leroy-Beaulieu, Ashle...</td>\n",
       "      <td>30 min</td>\n",
       "      <td>Comedy, Drama, Romance</td>\n",
       "    </tr>\n",
       "    <tr>\n",
       "      <th>27</th>\n",
       "      <td>Better Call Saul</td>\n",
       "      <td>2015.0</td>\n",
       "      <td>2022.0</td>\n",
       "      <td>8.9</td>\n",
       "      <td>Bob Odenkirk, Rhea Seehorn, Jonathan Banks, Pa...</td>\n",
       "      <td>46 min</td>\n",
       "      <td>Crime, Drama</td>\n",
       "    </tr>\n",
       "    <tr>\n",
       "      <th>35</th>\n",
       "      <td>Hunters</td>\n",
       "      <td>2020.0</td>\n",
       "      <td>2023.0</td>\n",
       "      <td>7.2</td>\n",
       "      <td>Al Pacino, Logan Lerman, Lena Olin, Jerrika Hi...</td>\n",
       "      <td>60 min</td>\n",
       "      <td>Crime, Drama, Mystery</td>\n",
       "    </tr>\n",
       "  </tbody>\n",
       "</table>\n",
       "</div>"
      ],
      "text/plain": [
       "                  Title  Release Year  End Year Rating  \\\n",
       "6   Alice in Borderland        2020.0       NaN    7.7   \n",
       "11     The Walking Dead        2010.0    2022.0    8.1   \n",
       "13       Emily in Paris        2020.0       NaN    6.9   \n",
       "27     Better Call Saul        2015.0    2022.0    8.9   \n",
       "35              Hunters        2020.0    2023.0    7.2   \n",
       "\n",
       "                                                 Cast Runtime  \\\n",
       "6   Kento Yamazaki, Tao Tsuchiya, Nijirô Murakami,...  50 min   \n",
       "11  Andrew Lincoln, Norman Reedus, Melissa McBride...  44 min   \n",
       "13  Lily Collins, Philippine Leroy-Beaulieu, Ashle...  30 min   \n",
       "27  Bob Odenkirk, Rhea Seehorn, Jonathan Banks, Pa...  46 min   \n",
       "35  Al Pacino, Logan Lerman, Lena Olin, Jerrika Hi...  60 min   \n",
       "\n",
       "                      Genre  \n",
       "6    Action, Drama, Mystery  \n",
       "11  Drama, Horror, Thriller  \n",
       "13   Comedy, Drama, Romance  \n",
       "27             Crime, Drama  \n",
       "35    Crime, Drama, Mystery  "
      ]
     },
     "execution_count": 141,
     "metadata": {},
     "output_type": "execute_result"
    }
   ],
   "source": [
    "# Select all TV shows with release year 2010, 2015 and 2020\n",
    "imdb[imdb['Release Year'].isin([2010, 2015, 2020])].head()"
   ]
  },
  {
   "cell_type": "markdown",
   "id": "26cd03ff",
   "metadata": {},
   "source": [
    "You may have not noticed, but there are many duplicated titles in our dataset."
   ]
  },
  {
   "cell_type": "code",
   "execution_count": 8,
   "id": "d704959f",
   "metadata": {
    "scrolled": true
   },
   "outputs": [
    {
     "data": {
      "text/html": [
       "<div>\n",
       "<style scoped>\n",
       "    .dataframe tbody tr th:only-of-type {\n",
       "        vertical-align: middle;\n",
       "    }\n",
       "\n",
       "    .dataframe tbody tr th {\n",
       "        vertical-align: top;\n",
       "    }\n",
       "\n",
       "    .dataframe thead th {\n",
       "        text-align: right;\n",
       "    }\n",
       "</style>\n",
       "<table border=\"1\" class=\"dataframe\">\n",
       "  <thead>\n",
       "    <tr style=\"text-align: right;\">\n",
       "      <th></th>\n",
       "      <th>Title</th>\n",
       "      <th>Release Year</th>\n",
       "      <th>End Year</th>\n",
       "      <th>Rating</th>\n",
       "      <th>Cast</th>\n",
       "      <th>Runtime</th>\n",
       "      <th>Genre</th>\n",
       "    </tr>\n",
       "  </thead>\n",
       "  <tbody>\n",
       "    <tr>\n",
       "      <th>6</th>\n",
       "      <td>Alice in Borderland</td>\n",
       "      <td>2020.0</td>\n",
       "      <td>NaN</td>\n",
       "      <td>7.7</td>\n",
       "      <td>Kento Yamazaki, Tao Tsuchiya, Nijirô Murakami,...</td>\n",
       "      <td>50 min</td>\n",
       "      <td>Action, Drama, Mystery</td>\n",
       "    </tr>\n",
       "    <tr>\n",
       "      <th>10006</th>\n",
       "      <td>Alice in Borderland</td>\n",
       "      <td>2020.0</td>\n",
       "      <td>NaN</td>\n",
       "      <td>7.7</td>\n",
       "      <td>Kento Yamazaki, Tao Tsuchiya, Nijirô Murakami,...</td>\n",
       "      <td>50 min</td>\n",
       "      <td>Action, Drama, Mystery</td>\n",
       "    </tr>\n",
       "    <tr>\n",
       "      <th>10056</th>\n",
       "      <td>Alice in Borderland</td>\n",
       "      <td>2020.0</td>\n",
       "      <td>NaN</td>\n",
       "      <td>7.7</td>\n",
       "      <td>Kento Yamazaki, Tao Tsuchiya, Nijirô Murakami,...</td>\n",
       "      <td>50 min</td>\n",
       "      <td>Action, Drama, Mystery</td>\n",
       "    </tr>\n",
       "    <tr>\n",
       "      <th>10106</th>\n",
       "      <td>Alice in Borderland</td>\n",
       "      <td>2020.0</td>\n",
       "      <td>NaN</td>\n",
       "      <td>7.7</td>\n",
       "      <td>Kento Yamazaki, Tao Tsuchiya, Nijirô Murakami,...</td>\n",
       "      <td>50 min</td>\n",
       "      <td>Action, Drama, Mystery</td>\n",
       "    </tr>\n",
       "    <tr>\n",
       "      <th>10156</th>\n",
       "      <td>Alice in Borderland</td>\n",
       "      <td>2020.0</td>\n",
       "      <td>NaN</td>\n",
       "      <td>7.7</td>\n",
       "      <td>Kento Yamazaki, Tao Tsuchiya, Nijirô Murakami,...</td>\n",
       "      <td>50 min</td>\n",
       "      <td>Action, Drama, Mystery</td>\n",
       "    </tr>\n",
       "  </tbody>\n",
       "</table>\n",
       "</div>"
      ],
      "text/plain": [
       "                     Title  Release Year  End Year Rating  \\\n",
       "6      Alice in Borderland        2020.0       NaN    7.7   \n",
       "10006  Alice in Borderland        2020.0       NaN    7.7   \n",
       "10056  Alice in Borderland        2020.0       NaN    7.7   \n",
       "10106  Alice in Borderland        2020.0       NaN    7.7   \n",
       "10156  Alice in Borderland        2020.0       NaN    7.7   \n",
       "\n",
       "                                                    Cast Runtime  \\\n",
       "6      Kento Yamazaki, Tao Tsuchiya, Nijirô Murakami,...  50 min   \n",
       "10006  Kento Yamazaki, Tao Tsuchiya, Nijirô Murakami,...  50 min   \n",
       "10056  Kento Yamazaki, Tao Tsuchiya, Nijirô Murakami,...  50 min   \n",
       "10106  Kento Yamazaki, Tao Tsuchiya, Nijirô Murakami,...  50 min   \n",
       "10156  Kento Yamazaki, Tao Tsuchiya, Nijirô Murakami,...  50 min   \n",
       "\n",
       "                        Genre  \n",
       "6      Action, Drama, Mystery  \n",
       "10006  Action, Drama, Mystery  \n",
       "10056  Action, Drama, Mystery  \n",
       "10106  Action, Drama, Mystery  \n",
       "10156  Action, Drama, Mystery  "
      ]
     },
     "execution_count": 8,
     "metadata": {},
     "output_type": "execute_result"
    }
   ],
   "source": [
    "# Select a different show\n",
    "imdb[imdb['Title'] == 'Alice in Borderland'].head()"
   ]
  },
  {
   "cell_type": "markdown",
   "id": "a6005cff",
   "metadata": {},
   "source": [
    "To check for duplicated rows we can use the `duplicated()` function."
   ]
  },
  {
   "cell_type": "code",
   "execution_count": 12,
   "id": "27179a88",
   "metadata": {},
   "outputs": [
    {
     "data": {
      "text/html": [
       "<div>\n",
       "<style scoped>\n",
       "    .dataframe tbody tr th:only-of-type {\n",
       "        vertical-align: middle;\n",
       "    }\n",
       "\n",
       "    .dataframe tbody tr th {\n",
       "        vertical-align: top;\n",
       "    }\n",
       "\n",
       "    .dataframe thead th {\n",
       "        text-align: right;\n",
       "    }\n",
       "</style>\n",
       "<table border=\"1\" class=\"dataframe\">\n",
       "  <thead>\n",
       "    <tr style=\"text-align: right;\">\n",
       "      <th></th>\n",
       "      <th>Title</th>\n",
       "      <th>Release Year</th>\n",
       "      <th>End Year</th>\n",
       "      <th>Rating</th>\n",
       "      <th>Cast</th>\n",
       "      <th>Runtime</th>\n",
       "      <th>Genre</th>\n",
       "    </tr>\n",
       "  </thead>\n",
       "  <tbody>\n",
       "    <tr>\n",
       "      <th>10000</th>\n",
       "      <td>Wednesday</td>\n",
       "      <td>2022.0</td>\n",
       "      <td>NaN</td>\n",
       "      <td>8.2</td>\n",
       "      <td>Jenna Ortega, Hunter Doohan, Percy Hynes White...</td>\n",
       "      <td>45 min</td>\n",
       "      <td>Comedy, Crime, Fantasy</td>\n",
       "    </tr>\n",
       "    <tr>\n",
       "      <th>10050</th>\n",
       "      <td>Wednesday</td>\n",
       "      <td>2022.0</td>\n",
       "      <td>NaN</td>\n",
       "      <td>8.2</td>\n",
       "      <td>Jenna Ortega, Hunter Doohan, Percy Hynes White...</td>\n",
       "      <td>45 min</td>\n",
       "      <td>Comedy, Crime, Fantasy</td>\n",
       "    </tr>\n",
       "    <tr>\n",
       "      <th>10100</th>\n",
       "      <td>Wednesday</td>\n",
       "      <td>2022.0</td>\n",
       "      <td>NaN</td>\n",
       "      <td>8.2</td>\n",
       "      <td>Jenna Ortega, Hunter Doohan, Percy Hynes White...</td>\n",
       "      <td>45 min</td>\n",
       "      <td>Comedy, Crime, Fantasy</td>\n",
       "    </tr>\n",
       "    <tr>\n",
       "      <th>10150</th>\n",
       "      <td>Wednesday</td>\n",
       "      <td>2022.0</td>\n",
       "      <td>NaN</td>\n",
       "      <td>8.2</td>\n",
       "      <td>Jenna Ortega, Hunter Doohan, Percy Hynes White...</td>\n",
       "      <td>45 min</td>\n",
       "      <td>Comedy, Crime, Fantasy</td>\n",
       "    </tr>\n",
       "    <tr>\n",
       "      <th>10200</th>\n",
       "      <td>Wednesday</td>\n",
       "      <td>2022.0</td>\n",
       "      <td>NaN</td>\n",
       "      <td>8.2</td>\n",
       "      <td>Jenna Ortega, Hunter Doohan, Percy Hynes White...</td>\n",
       "      <td>45 min</td>\n",
       "      <td>Comedy, Crime, Fantasy</td>\n",
       "    </tr>\n",
       "  </tbody>\n",
       "</table>\n",
       "</div>"
      ],
      "text/plain": [
       "           Title  Release Year  End Year Rating  \\\n",
       "10000  Wednesday        2022.0       NaN    8.2   \n",
       "10050  Wednesday        2022.0       NaN    8.2   \n",
       "10100  Wednesday        2022.0       NaN    8.2   \n",
       "10150  Wednesday        2022.0       NaN    8.2   \n",
       "10200  Wednesday        2022.0       NaN    8.2   \n",
       "\n",
       "                                                    Cast Runtime  \\\n",
       "10000  Jenna Ortega, Hunter Doohan, Percy Hynes White...  45 min   \n",
       "10050  Jenna Ortega, Hunter Doohan, Percy Hynes White...  45 min   \n",
       "10100  Jenna Ortega, Hunter Doohan, Percy Hynes White...  45 min   \n",
       "10150  Jenna Ortega, Hunter Doohan, Percy Hynes White...  45 min   \n",
       "10200  Jenna Ortega, Hunter Doohan, Percy Hynes White...  45 min   \n",
       "\n",
       "                        Genre  \n",
       "10000  Comedy, Crime, Fantasy  \n",
       "10050  Comedy, Crime, Fantasy  \n",
       "10100  Comedy, Crime, Fantasy  \n",
       "10150  Comedy, Crime, Fantasy  \n",
       "10200  Comedy, Crime, Fantasy  "
      ]
     },
     "execution_count": 12,
     "metadata": {},
     "output_type": "execute_result"
    }
   ],
   "source": [
    "# See some duplicated rows\n",
    "dups = imdb[imdb.duplicated()]\n",
    "dups[dups['Title'] == \"Wednesday\"].head()"
   ]
  },
  {
   "cell_type": "markdown",
   "id": "ce32eb3a",
   "metadata": {},
   "source": [
    "To drop this duplicated "
   ]
  },
  {
   "cell_type": "markdown",
   "id": "55d92557",
   "metadata": {},
   "source": [
    "#### Location-based indexing"
   ]
  },
  {
   "cell_type": "markdown",
   "id": "49619360",
   "metadata": {},
   "source": [
    "Pandas has two additional ways of indexing that allow us to select specified rows and columns: `.loc` and `.iloc`. \n",
    "\n",
    "The `.loc` method is used to obtain rows and columns with a specific label. Since we have not modified the row labels, these correspond to their integer index."
   ]
  },
  {
   "cell_type": "code",
   "execution_count": 142,
   "id": "3a250863",
   "metadata": {},
   "outputs": [
    {
     "data": {
      "text/plain": [
       "'The Walking Dead'"
      ]
     },
     "execution_count": 142,
     "metadata": {},
     "output_type": "execute_result"
    }
   ],
   "source": [
    "# Select the 11th title\n",
    "imdb.loc[11, 'Title']"
   ]
  },
  {
   "cell_type": "markdown",
   "id": "82b2a91a",
   "metadata": {},
   "source": [
    "However, the most useful way to use the `.loc` method is by subsetting rows based on a condition and selection columns by name."
   ]
  },
  {
   "cell_type": "code",
   "execution_count": 143,
   "id": "1e736528",
   "metadata": {},
   "outputs": [
    {
     "data": {
      "text/plain": [
       "6     Alice in Borderland\n",
       "11       The Walking Dead\n",
       "13         Emily in Paris\n",
       "27       Better Call Saul\n",
       "35                Hunters\n",
       "Name: Title, dtype: object"
      ]
     },
     "execution_count": 143,
     "metadata": {},
     "output_type": "execute_result"
    }
   ],
   "source": [
    "# Select the TV show titles released in 2010, 2015 and 2020\n",
    "imdb.loc[imdb['Release Year'].isin([2010, 2015, 2020]), 'Title'].head()"
   ]
  },
  {
   "cell_type": "markdown",
   "id": "b57141ed",
   "metadata": {},
   "source": [
    "We can use this to obtain more than one column too."
   ]
  },
  {
   "cell_type": "code",
   "execution_count": 144,
   "id": "3b773124",
   "metadata": {},
   "outputs": [
    {
     "data": {
      "text/html": [
       "<div>\n",
       "<style scoped>\n",
       "    .dataframe tbody tr th:only-of-type {\n",
       "        vertical-align: middle;\n",
       "    }\n",
       "\n",
       "    .dataframe tbody tr th {\n",
       "        vertical-align: top;\n",
       "    }\n",
       "\n",
       "    .dataframe thead th {\n",
       "        text-align: right;\n",
       "    }\n",
       "</style>\n",
       "<table border=\"1\" class=\"dataframe\">\n",
       "  <thead>\n",
       "    <tr style=\"text-align: right;\">\n",
       "      <th></th>\n",
       "      <th>Title</th>\n",
       "      <th>Release Year</th>\n",
       "      <th>Rating</th>\n",
       "    </tr>\n",
       "  </thead>\n",
       "  <tbody>\n",
       "    <tr>\n",
       "      <th>6</th>\n",
       "      <td>Alice in Borderland</td>\n",
       "      <td>2020.0</td>\n",
       "      <td>7.7</td>\n",
       "    </tr>\n",
       "    <tr>\n",
       "      <th>11</th>\n",
       "      <td>The Walking Dead</td>\n",
       "      <td>2010.0</td>\n",
       "      <td>8.1</td>\n",
       "    </tr>\n",
       "    <tr>\n",
       "      <th>13</th>\n",
       "      <td>Emily in Paris</td>\n",
       "      <td>2020.0</td>\n",
       "      <td>6.9</td>\n",
       "    </tr>\n",
       "    <tr>\n",
       "      <th>27</th>\n",
       "      <td>Better Call Saul</td>\n",
       "      <td>2015.0</td>\n",
       "      <td>8.9</td>\n",
       "    </tr>\n",
       "    <tr>\n",
       "      <th>35</th>\n",
       "      <td>Hunters</td>\n",
       "      <td>2020.0</td>\n",
       "      <td>7.2</td>\n",
       "    </tr>\n",
       "  </tbody>\n",
       "</table>\n",
       "</div>"
      ],
      "text/plain": [
       "                  Title  Release Year Rating\n",
       "6   Alice in Borderland        2020.0    7.7\n",
       "11     The Walking Dead        2010.0    8.1\n",
       "13       Emily in Paris        2020.0    6.9\n",
       "27     Better Call Saul        2015.0    8.9\n",
       "35              Hunters        2020.0    7.2"
      ]
     },
     "execution_count": 144,
     "metadata": {},
     "output_type": "execute_result"
    }
   ],
   "source": [
    "# Select the TV show titles and rating\n",
    "imdb.loc[imdb['Release Year'].isin([2010, 2015, 2020]), ['Title', 'Release Year', 'Rating']].head()"
   ]
  },
  {
   "cell_type": "markdown",
   "id": "4f722966",
   "metadata": {},
   "source": [
    "On the other hand, the `.iloc` method is mainly integer position based. For example, if we want to take the first row and first to third columns."
   ]
  },
  {
   "cell_type": "code",
   "execution_count": 145,
   "id": "07fdef81",
   "metadata": {},
   "outputs": [
    {
     "data": {
      "text/plain": [
       "Title           Wednesday\n",
       "Release Year       2022.0\n",
       "End Year              NaN\n",
       "Name: 0, dtype: object"
      ]
     },
     "execution_count": 145,
     "metadata": {},
     "output_type": "execute_result"
    }
   ],
   "source": [
    "# First row and first to third columns\n",
    "imdb.iloc[0, 0:3]"
   ]
  },
  {
   "cell_type": "markdown",
   "id": "6f8d7d52",
   "metadata": {},
   "source": [
    "We can also obtain non consecutive rows and columns by using lists."
   ]
  },
  {
   "cell_type": "code",
   "execution_count": 146,
   "id": "ef12fdcf",
   "metadata": {},
   "outputs": [
    {
     "data": {
      "text/html": [
       "<div>\n",
       "<style scoped>\n",
       "    .dataframe tbody tr th:only-of-type {\n",
       "        vertical-align: middle;\n",
       "    }\n",
       "\n",
       "    .dataframe tbody tr th {\n",
       "        vertical-align: top;\n",
       "    }\n",
       "\n",
       "    .dataframe thead th {\n",
       "        text-align: right;\n",
       "    }\n",
       "</style>\n",
       "<table border=\"1\" class=\"dataframe\">\n",
       "  <thead>\n",
       "    <tr style=\"text-align: right;\">\n",
       "      <th></th>\n",
       "      <th>Title</th>\n",
       "      <th>Rating</th>\n",
       "    </tr>\n",
       "  </thead>\n",
       "  <tbody>\n",
       "    <tr>\n",
       "      <th>0</th>\n",
       "      <td>Wednesday</td>\n",
       "      <td>8.2</td>\n",
       "    </tr>\n",
       "    <tr>\n",
       "      <th>4</th>\n",
       "      <td>Jack Ryan</td>\n",
       "      <td>8</td>\n",
       "    </tr>\n",
       "  </tbody>\n",
       "</table>\n",
       "</div>"
      ],
      "text/plain": [
       "       Title Rating\n",
       "0  Wednesday    8.2\n",
       "4  Jack Ryan      8"
      ]
     },
     "execution_count": 146,
     "metadata": {},
     "output_type": "execute_result"
    }
   ],
   "source": [
    "# First and fifth rows with the first and fourth columns\n",
    "imdb.iloc[[0, 4], [0, 3]]"
   ]
  },
  {
   "cell_type": "markdown",
   "id": "da071522",
   "metadata": {},
   "source": [
    "### Sorting your DataFrame\n",
    "\n",
    "Sorting our data can hep us answer questions like \"What is the oldest movie in our dataset?\". To sort the values of our DataFrame we use the `sort()` function."
   ]
  },
  {
   "cell_type": "code",
   "execution_count": 147,
   "id": "eb3346ca",
   "metadata": {},
   "outputs": [
    {
     "data": {
      "text/html": [
       "<div>\n",
       "<style scoped>\n",
       "    .dataframe tbody tr th:only-of-type {\n",
       "        vertical-align: middle;\n",
       "    }\n",
       "\n",
       "    .dataframe tbody tr th {\n",
       "        vertical-align: top;\n",
       "    }\n",
       "\n",
       "    .dataframe thead th {\n",
       "        text-align: right;\n",
       "    }\n",
       "</style>\n",
       "<table border=\"1\" class=\"dataframe\">\n",
       "  <thead>\n",
       "    <tr style=\"text-align: right;\">\n",
       "      <th></th>\n",
       "      <th>Title</th>\n",
       "      <th>Release Year</th>\n",
       "      <th>End Year</th>\n",
       "      <th>Rating</th>\n",
       "      <th>Cast</th>\n",
       "      <th>Runtime</th>\n",
       "      <th>Genre</th>\n",
       "    </tr>\n",
       "  </thead>\n",
       "  <tbody>\n",
       "    <tr>\n",
       "      <th>4006</th>\n",
       "      <td>Looney Tunes</td>\n",
       "      <td>1930.0</td>\n",
       "      <td>2014.0</td>\n",
       "      <td>8.7</td>\n",
       "      <td>June Foray, Mel Blanc</td>\n",
       "      <td>7 min</td>\n",
       "      <td>Animation, Adventure, Comedy</td>\n",
       "    </tr>\n",
       "    <tr>\n",
       "      <th>7333</th>\n",
       "      <td>The Woody Woodpecker Show</td>\n",
       "      <td>1940.0</td>\n",
       "      <td>1972.0</td>\n",
       "      <td>7</td>\n",
       "      <td>Walter Lantz, Grace Stafford, Daws Butler, Joh...</td>\n",
       "      <td>6 min</td>\n",
       "      <td>Animation, Short, Comedy</td>\n",
       "    </tr>\n",
       "    <tr>\n",
       "      <th>1563</th>\n",
       "      <td>Tom and Jerry</td>\n",
       "      <td>1940.0</td>\n",
       "      <td>1968.0</td>\n",
       "      <td>9</td>\n",
       "      <td>Mel Blanc, William Hanna, June Foray, Harry Lang</td>\n",
       "      <td>8 min</td>\n",
       "      <td>Animation, Short, Adventure</td>\n",
       "    </tr>\n",
       "    <tr>\n",
       "      <th>7519</th>\n",
       "      <td>Puppet Playhouse</td>\n",
       "      <td>1947.0</td>\n",
       "      <td>1960.0</td>\n",
       "      <td>7.7</td>\n",
       "      <td>Bob Smith, Robert Keeshan, Dayton Allen, Bill ...</td>\n",
       "      <td>30 min</td>\n",
       "      <td>Family</td>\n",
       "    </tr>\n",
       "    <tr>\n",
       "      <th>4988</th>\n",
       "      <td>Toast of the Town</td>\n",
       "      <td>1948.0</td>\n",
       "      <td>1971.0</td>\n",
       "      <td>7.9</td>\n",
       "      <td>Ed Sullivan, Johnny Wayne, Frank Shuster, Ralp...</td>\n",
       "      <td>60 min</td>\n",
       "      <td>Music, Talk-Show</td>\n",
       "    </tr>\n",
       "  </tbody>\n",
       "</table>\n",
       "</div>"
      ],
      "text/plain": [
       "                          Title  Release Year  End Year Rating  \\\n",
       "4006               Looney Tunes        1930.0    2014.0    8.7   \n",
       "7333  The Woody Woodpecker Show        1940.0    1972.0      7   \n",
       "1563              Tom and Jerry        1940.0    1968.0      9   \n",
       "7519           Puppet Playhouse        1947.0    1960.0    7.7   \n",
       "4988          Toast of the Town        1948.0    1971.0    7.9   \n",
       "\n",
       "                                                   Cast Runtime  \\\n",
       "4006                              June Foray, Mel Blanc   7 min   \n",
       "7333  Walter Lantz, Grace Stafford, Daws Butler, Joh...   6 min   \n",
       "1563   Mel Blanc, William Hanna, June Foray, Harry Lang   8 min   \n",
       "7519  Bob Smith, Robert Keeshan, Dayton Allen, Bill ...  30 min   \n",
       "4988  Ed Sullivan, Johnny Wayne, Frank Shuster, Ralp...  60 min   \n",
       "\n",
       "                             Genre  \n",
       "4006  Animation, Adventure, Comedy  \n",
       "7333      Animation, Short, Comedy  \n",
       "1563   Animation, Short, Adventure  \n",
       "7519                        Family  \n",
       "4988              Music, Talk-Show  "
      ]
     },
     "execution_count": 147,
     "metadata": {},
     "output_type": "execute_result"
    }
   ],
   "source": [
    "# Sort by release year\n",
    "imdb.sort_values(\"Release Year\").head()"
   ]
  },
  {
   "cell_type": "markdown",
   "id": "e1b96ff1",
   "metadata": {},
   "source": [
    "The `sort_values()` function by default sorts our values in ascending order. But we can specify to sort them in descending order as well."
   ]
  },
  {
   "cell_type": "code",
   "execution_count": 148,
   "id": "d50d4856",
   "metadata": {},
   "outputs": [
    {
     "data": {
      "text/html": [
       "<div>\n",
       "<style scoped>\n",
       "    .dataframe tbody tr th:only-of-type {\n",
       "        vertical-align: middle;\n",
       "    }\n",
       "\n",
       "    .dataframe tbody tr th {\n",
       "        vertical-align: top;\n",
       "    }\n",
       "\n",
       "    .dataframe thead th {\n",
       "        text-align: right;\n",
       "    }\n",
       "</style>\n",
       "<table border=\"1\" class=\"dataframe\">\n",
       "  <thead>\n",
       "    <tr style=\"text-align: right;\">\n",
       "      <th></th>\n",
       "      <th>Title</th>\n",
       "      <th>Release Year</th>\n",
       "      <th>End Year</th>\n",
       "      <th>Rating</th>\n",
       "      <th>Cast</th>\n",
       "      <th>Runtime</th>\n",
       "      <th>Genre</th>\n",
       "    </tr>\n",
       "  </thead>\n",
       "  <tbody>\n",
       "    <tr>\n",
       "      <th>8551</th>\n",
       "      <td>The Lion Guard Drama King</td>\n",
       "      <td>2024.0</td>\n",
       "      <td>NaN</td>\n",
       "      <td>****</td>\n",
       "      <td>Dallas Messenger, Alex Rush, Teyani Ferguson, ...</td>\n",
       "      <td>****</td>\n",
       "      <td>Animation, Action, Adventure</td>\n",
       "    </tr>\n",
       "    <tr>\n",
       "      <th>39868</th>\n",
       "      <td>Anne Rice's Mayfair Witches</td>\n",
       "      <td>2023.0</td>\n",
       "      <td>NaN</td>\n",
       "      <td>6.8</td>\n",
       "      <td>Alexandra Daddario, Jack Huston, Tongayi Chiri...</td>\n",
       "      <td>****</td>\n",
       "      <td>Fantasy, Horror</td>\n",
       "    </tr>\n",
       "    <tr>\n",
       "      <th>35716</th>\n",
       "      <td>Will Trent</td>\n",
       "      <td>2023.0</td>\n",
       "      <td>NaN</td>\n",
       "      <td>7.7</td>\n",
       "      <td>Deion Smith, Ramón Rodríguez, Erika Christense...</td>\n",
       "      <td>****</td>\n",
       "      <td>Crime, Drama</td>\n",
       "    </tr>\n",
       "    <tr>\n",
       "      <th>5737</th>\n",
       "      <td>Jigokuraku</td>\n",
       "      <td>2023.0</td>\n",
       "      <td>NaN</td>\n",
       "      <td>****</td>\n",
       "      <td>Rie Takahashi, Kenshô Ono, Chiaki Kobayashi, T...</td>\n",
       "      <td>24 min</td>\n",
       "      <td>Animation, Action, Adventure</td>\n",
       "    </tr>\n",
       "    <tr>\n",
       "      <th>10466</th>\n",
       "      <td>Will Trent</td>\n",
       "      <td>2023.0</td>\n",
       "      <td>NaN</td>\n",
       "      <td>7.7</td>\n",
       "      <td>Deion Smith, Ramón Rodríguez, Erika Christense...</td>\n",
       "      <td>****</td>\n",
       "      <td>Crime, Drama</td>\n",
       "    </tr>\n",
       "  </tbody>\n",
       "</table>\n",
       "</div>"
      ],
      "text/plain": [
       "                             Title  Release Year  End Year Rating  \\\n",
       "8551     The Lion Guard Drama King        2024.0       NaN   ****   \n",
       "39868  Anne Rice's Mayfair Witches        2023.0       NaN    6.8   \n",
       "35716                   Will Trent        2023.0       NaN    7.7   \n",
       "5737                    Jigokuraku        2023.0       NaN   ****   \n",
       "10466                   Will Trent        2023.0       NaN    7.7   \n",
       "\n",
       "                                                    Cast Runtime  \\\n",
       "8551   Dallas Messenger, Alex Rush, Teyani Ferguson, ...    ****   \n",
       "39868  Alexandra Daddario, Jack Huston, Tongayi Chiri...    ****   \n",
       "35716  Deion Smith, Ramón Rodríguez, Erika Christense...    ****   \n",
       "5737   Rie Takahashi, Kenshô Ono, Chiaki Kobayashi, T...  24 min   \n",
       "10466  Deion Smith, Ramón Rodríguez, Erika Christense...    ****   \n",
       "\n",
       "                              Genre  \n",
       "8551   Animation, Action, Adventure  \n",
       "39868               Fantasy, Horror  \n",
       "35716                  Crime, Drama  \n",
       "5737   Animation, Action, Adventure  \n",
       "10466                  Crime, Drama  "
      ]
     },
     "execution_count": 148,
     "metadata": {},
     "output_type": "execute_result"
    }
   ],
   "source": [
    "# Sort by release year in descending order\n",
    "imdb.sort_values(\"Release Year\", ascending = False).head()"
   ]
  },
  {
   "cell_type": "markdown",
   "id": "a8521f9a",
   "metadata": {},
   "source": [
    "We can sort by multiple values by passing a list. For example, we can sort by Release Year and Rating."
   ]
  },
  {
   "cell_type": "code",
   "execution_count": 149,
   "id": "cc7d3437",
   "metadata": {},
   "outputs": [
    {
     "data": {
      "text/html": [
       "<div>\n",
       "<style scoped>\n",
       "    .dataframe tbody tr th:only-of-type {\n",
       "        vertical-align: middle;\n",
       "    }\n",
       "\n",
       "    .dataframe tbody tr th {\n",
       "        vertical-align: top;\n",
       "    }\n",
       "\n",
       "    .dataframe thead th {\n",
       "        text-align: right;\n",
       "    }\n",
       "</style>\n",
       "<table border=\"1\" class=\"dataframe\">\n",
       "  <thead>\n",
       "    <tr style=\"text-align: right;\">\n",
       "      <th></th>\n",
       "      <th>Title</th>\n",
       "      <th>Release Year</th>\n",
       "      <th>End Year</th>\n",
       "      <th>Rating</th>\n",
       "      <th>Cast</th>\n",
       "      <th>Runtime</th>\n",
       "      <th>Genre</th>\n",
       "    </tr>\n",
       "  </thead>\n",
       "  <tbody>\n",
       "    <tr>\n",
       "      <th>8551</th>\n",
       "      <td>The Lion Guard Drama King</td>\n",
       "      <td>2024.0</td>\n",
       "      <td>NaN</td>\n",
       "      <td>****</td>\n",
       "      <td>Dallas Messenger, Alex Rush, Teyani Ferguson, ...</td>\n",
       "      <td>****</td>\n",
       "      <td>Animation, Action, Adventure</td>\n",
       "    </tr>\n",
       "    <tr>\n",
       "      <th>2210</th>\n",
       "      <td>Crazy Fun Park</td>\n",
       "      <td>2023.0</td>\n",
       "      <td>NaN</td>\n",
       "      <td>9.3</td>\n",
       "      <td>Henry Strand, Stacy Clausen, Hannah Ogawa, Ped...</td>\n",
       "      <td>****</td>\n",
       "      <td>Adventure</td>\n",
       "    </tr>\n",
       "    <tr>\n",
       "      <th>395</th>\n",
       "      <td>Taaza Khabar</td>\n",
       "      <td>2023.0</td>\n",
       "      <td>NaN</td>\n",
       "      <td>8.6</td>\n",
       "      <td>Bhuvan Bam, Shriya Pilgaonkar, Shilpa Shukla, ...</td>\n",
       "      <td>****</td>\n",
       "      <td>Action, Comedy, Drama</td>\n",
       "    </tr>\n",
       "    <tr>\n",
       "      <th>1492</th>\n",
       "      <td>Legacy</td>\n",
       "      <td>2023.0</td>\n",
       "      <td>NaN</td>\n",
       "      <td>8.3</td>\n",
       "      <td>Matthijs van de Sande Bakhuyzen, Sallie Harmse...</td>\n",
       "      <td>****</td>\n",
       "      <td>Drama</td>\n",
       "    </tr>\n",
       "    <tr>\n",
       "      <th>7003</th>\n",
       "      <td>Piiritys</td>\n",
       "      <td>2023.0</td>\n",
       "      <td>NaN</td>\n",
       "      <td>8.3</td>\n",
       "      <td>Anna Böhm, Mikko Kauppila, Konsta Laakso, Eero...</td>\n",
       "      <td>42 min</td>\n",
       "      <td>Thriller</td>\n",
       "    </tr>\n",
       "  </tbody>\n",
       "</table>\n",
       "</div>"
      ],
      "text/plain": [
       "                          Title  Release Year  End Year Rating  \\\n",
       "8551  The Lion Guard Drama King        2024.0       NaN   ****   \n",
       "2210             Crazy Fun Park        2023.0       NaN    9.3   \n",
       "395                Taaza Khabar        2023.0       NaN    8.6   \n",
       "1492                     Legacy        2023.0       NaN    8.3   \n",
       "7003                   Piiritys        2023.0       NaN    8.3   \n",
       "\n",
       "                                                   Cast Runtime  \\\n",
       "8551  Dallas Messenger, Alex Rush, Teyani Ferguson, ...    ****   \n",
       "2210  Henry Strand, Stacy Clausen, Hannah Ogawa, Ped...    ****   \n",
       "395   Bhuvan Bam, Shriya Pilgaonkar, Shilpa Shukla, ...    ****   \n",
       "1492  Matthijs van de Sande Bakhuyzen, Sallie Harmse...    ****   \n",
       "7003  Anna Böhm, Mikko Kauppila, Konsta Laakso, Eero...  42 min   \n",
       "\n",
       "                             Genre  \n",
       "8551  Animation, Action, Adventure  \n",
       "2210                     Adventure  \n",
       "395          Action, Comedy, Drama  \n",
       "1492                         Drama  \n",
       "7003                      Thriller  "
      ]
     },
     "execution_count": 149,
     "metadata": {},
     "output_type": "execute_result"
    }
   ],
   "source": [
    "# Sort by release year and rating in descending order\n",
    "imdb.sort_values([\"Release Year\", \"Rating\"], ascending = False).head()"
   ]
  },
  {
   "cell_type": "markdown",
   "id": "8144f166",
   "metadata": {},
   "source": [
    "Note that some of our Rating and Runtime values, encoded as \"\\*\\*\\*\\*\", are also missing. Missing data affects our analysis in several ways. For example, if we wanted to change the Rating column to a float type, Python would throw an error."
   ]
  },
  {
   "cell_type": "code",
   "execution_count": 150,
   "id": "dbdf88eb",
   "metadata": {},
   "outputs": [
    {
     "ename": "ValueError",
     "evalue": "could not convert string to float: '****'",
     "output_type": "error",
     "traceback": [
      "\u001b[0;31m---------------------------------------------------------------------------\u001b[0m",
      "\u001b[0;31mValueError\u001b[0m                                Traceback (most recent call last)",
      "Cell \u001b[0;32mIn[150], line 2\u001b[0m\n\u001b[1;32m      1\u001b[0m \u001b[38;5;66;03m# Convert Rating to float\u001b[39;00m\n\u001b[0;32m----> 2\u001b[0m \u001b[43mimdb\u001b[49m\u001b[43m[\u001b[49m\u001b[38;5;124;43m'\u001b[39;49m\u001b[38;5;124;43mRating\u001b[39;49m\u001b[38;5;124;43m'\u001b[39;49m\u001b[43m]\u001b[49m\u001b[38;5;241;43m.\u001b[39;49m\u001b[43mastype\u001b[49m\u001b[43m(\u001b[49m\u001b[38;5;124;43m'\u001b[39;49m\u001b[38;5;124;43mfloat\u001b[39;49m\u001b[38;5;124;43m'\u001b[39;49m\u001b[43m)\u001b[49m\n",
      "File \u001b[0;32m~/anaconda3/envs/qcl/lib/python3.10/site-packages/pandas/core/generic.py:6240\u001b[0m, in \u001b[0;36mNDFrame.astype\u001b[0;34m(self, dtype, copy, errors)\u001b[0m\n\u001b[1;32m   6233\u001b[0m     results \u001b[38;5;241m=\u001b[39m [\n\u001b[1;32m   6234\u001b[0m         \u001b[38;5;28mself\u001b[39m\u001b[38;5;241m.\u001b[39miloc[:, i]\u001b[38;5;241m.\u001b[39mastype(dtype, copy\u001b[38;5;241m=\u001b[39mcopy)\n\u001b[1;32m   6235\u001b[0m         \u001b[38;5;28;01mfor\u001b[39;00m i \u001b[38;5;129;01min\u001b[39;00m \u001b[38;5;28mrange\u001b[39m(\u001b[38;5;28mlen\u001b[39m(\u001b[38;5;28mself\u001b[39m\u001b[38;5;241m.\u001b[39mcolumns))\n\u001b[1;32m   6236\u001b[0m     ]\n\u001b[1;32m   6238\u001b[0m \u001b[38;5;28;01melse\u001b[39;00m:\n\u001b[1;32m   6239\u001b[0m     \u001b[38;5;66;03m# else, only a single dtype is given\u001b[39;00m\n\u001b[0;32m-> 6240\u001b[0m     new_data \u001b[38;5;241m=\u001b[39m \u001b[38;5;28;43mself\u001b[39;49m\u001b[38;5;241;43m.\u001b[39;49m\u001b[43m_mgr\u001b[49m\u001b[38;5;241;43m.\u001b[39;49m\u001b[43mastype\u001b[49m\u001b[43m(\u001b[49m\u001b[43mdtype\u001b[49m\u001b[38;5;241;43m=\u001b[39;49m\u001b[43mdtype\u001b[49m\u001b[43m,\u001b[49m\u001b[43m \u001b[49m\u001b[43mcopy\u001b[49m\u001b[38;5;241;43m=\u001b[39;49m\u001b[43mcopy\u001b[49m\u001b[43m,\u001b[49m\u001b[43m \u001b[49m\u001b[43merrors\u001b[49m\u001b[38;5;241;43m=\u001b[39;49m\u001b[43merrors\u001b[49m\u001b[43m)\u001b[49m\n\u001b[1;32m   6241\u001b[0m     \u001b[38;5;28;01mreturn\u001b[39;00m \u001b[38;5;28mself\u001b[39m\u001b[38;5;241m.\u001b[39m_constructor(new_data)\u001b[38;5;241m.\u001b[39m__finalize__(\u001b[38;5;28mself\u001b[39m, method\u001b[38;5;241m=\u001b[39m\u001b[38;5;124m\"\u001b[39m\u001b[38;5;124mastype\u001b[39m\u001b[38;5;124m\"\u001b[39m)\n\u001b[1;32m   6243\u001b[0m \u001b[38;5;66;03m# GH 33113: handle empty frame or series\u001b[39;00m\n",
      "File \u001b[0;32m~/anaconda3/envs/qcl/lib/python3.10/site-packages/pandas/core/internals/managers.py:450\u001b[0m, in \u001b[0;36mBaseBlockManager.astype\u001b[0;34m(self, dtype, copy, errors)\u001b[0m\n\u001b[1;32m    449\u001b[0m \u001b[38;5;28;01mdef\u001b[39;00m \u001b[38;5;21mastype\u001b[39m(\u001b[38;5;28mself\u001b[39m: T, dtype, copy: \u001b[38;5;28mbool\u001b[39m \u001b[38;5;241m=\u001b[39m \u001b[38;5;28;01mFalse\u001b[39;00m, errors: \u001b[38;5;28mstr\u001b[39m \u001b[38;5;241m=\u001b[39m \u001b[38;5;124m\"\u001b[39m\u001b[38;5;124mraise\u001b[39m\u001b[38;5;124m\"\u001b[39m) \u001b[38;5;241m-\u001b[39m\u001b[38;5;241m>\u001b[39m T:\n\u001b[0;32m--> 450\u001b[0m     \u001b[38;5;28;01mreturn\u001b[39;00m \u001b[38;5;28;43mself\u001b[39;49m\u001b[38;5;241;43m.\u001b[39;49m\u001b[43mapply\u001b[49m\u001b[43m(\u001b[49m\u001b[38;5;124;43m\"\u001b[39;49m\u001b[38;5;124;43mastype\u001b[39;49m\u001b[38;5;124;43m\"\u001b[39;49m\u001b[43m,\u001b[49m\u001b[43m \u001b[49m\u001b[43mdtype\u001b[49m\u001b[38;5;241;43m=\u001b[39;49m\u001b[43mdtype\u001b[49m\u001b[43m,\u001b[49m\u001b[43m \u001b[49m\u001b[43mcopy\u001b[49m\u001b[38;5;241;43m=\u001b[39;49m\u001b[43mcopy\u001b[49m\u001b[43m,\u001b[49m\u001b[43m \u001b[49m\u001b[43merrors\u001b[49m\u001b[38;5;241;43m=\u001b[39;49m\u001b[43merrors\u001b[49m\u001b[43m)\u001b[49m\n",
      "File \u001b[0;32m~/anaconda3/envs/qcl/lib/python3.10/site-packages/pandas/core/internals/managers.py:352\u001b[0m, in \u001b[0;36mBaseBlockManager.apply\u001b[0;34m(self, f, align_keys, ignore_failures, **kwargs)\u001b[0m\n\u001b[1;32m    350\u001b[0m         applied \u001b[38;5;241m=\u001b[39m b\u001b[38;5;241m.\u001b[39mapply(f, \u001b[38;5;241m*\u001b[39m\u001b[38;5;241m*\u001b[39mkwargs)\n\u001b[1;32m    351\u001b[0m     \u001b[38;5;28;01melse\u001b[39;00m:\n\u001b[0;32m--> 352\u001b[0m         applied \u001b[38;5;241m=\u001b[39m \u001b[38;5;28;43mgetattr\u001b[39;49m\u001b[43m(\u001b[49m\u001b[43mb\u001b[49m\u001b[43m,\u001b[49m\u001b[43m \u001b[49m\u001b[43mf\u001b[49m\u001b[43m)\u001b[49m\u001b[43m(\u001b[49m\u001b[38;5;241;43m*\u001b[39;49m\u001b[38;5;241;43m*\u001b[39;49m\u001b[43mkwargs\u001b[49m\u001b[43m)\u001b[49m\n\u001b[1;32m    353\u001b[0m \u001b[38;5;28;01mexcept\u001b[39;00m (\u001b[38;5;167;01mTypeError\u001b[39;00m, \u001b[38;5;167;01mNotImplementedError\u001b[39;00m):\n\u001b[1;32m    354\u001b[0m     \u001b[38;5;28;01mif\u001b[39;00m \u001b[38;5;129;01mnot\u001b[39;00m ignore_failures:\n",
      "File \u001b[0;32m~/anaconda3/envs/qcl/lib/python3.10/site-packages/pandas/core/internals/blocks.py:526\u001b[0m, in \u001b[0;36mBlock.astype\u001b[0;34m(self, dtype, copy, errors)\u001b[0m\n\u001b[1;32m    508\u001b[0m \u001b[38;5;124;03m\"\"\"\u001b[39;00m\n\u001b[1;32m    509\u001b[0m \u001b[38;5;124;03mCoerce to the new dtype.\u001b[39;00m\n\u001b[1;32m    510\u001b[0m \n\u001b[0;32m   (...)\u001b[0m\n\u001b[1;32m    522\u001b[0m \u001b[38;5;124;03mBlock\u001b[39;00m\n\u001b[1;32m    523\u001b[0m \u001b[38;5;124;03m\"\"\"\u001b[39;00m\n\u001b[1;32m    524\u001b[0m values \u001b[38;5;241m=\u001b[39m \u001b[38;5;28mself\u001b[39m\u001b[38;5;241m.\u001b[39mvalues\n\u001b[0;32m--> 526\u001b[0m new_values \u001b[38;5;241m=\u001b[39m \u001b[43mastype_array_safe\u001b[49m\u001b[43m(\u001b[49m\u001b[43mvalues\u001b[49m\u001b[43m,\u001b[49m\u001b[43m \u001b[49m\u001b[43mdtype\u001b[49m\u001b[43m,\u001b[49m\u001b[43m \u001b[49m\u001b[43mcopy\u001b[49m\u001b[38;5;241;43m=\u001b[39;49m\u001b[43mcopy\u001b[49m\u001b[43m,\u001b[49m\u001b[43m \u001b[49m\u001b[43merrors\u001b[49m\u001b[38;5;241;43m=\u001b[39;49m\u001b[43merrors\u001b[49m\u001b[43m)\u001b[49m\n\u001b[1;32m    528\u001b[0m new_values \u001b[38;5;241m=\u001b[39m maybe_coerce_values(new_values)\n\u001b[1;32m    529\u001b[0m newb \u001b[38;5;241m=\u001b[39m \u001b[38;5;28mself\u001b[39m\u001b[38;5;241m.\u001b[39mmake_block(new_values)\n",
      "File \u001b[0;32m~/anaconda3/envs/qcl/lib/python3.10/site-packages/pandas/core/dtypes/astype.py:299\u001b[0m, in \u001b[0;36mastype_array_safe\u001b[0;34m(values, dtype, copy, errors)\u001b[0m\n\u001b[1;32m    296\u001b[0m     \u001b[38;5;28;01mreturn\u001b[39;00m values\u001b[38;5;241m.\u001b[39mcopy()\n\u001b[1;32m    298\u001b[0m \u001b[38;5;28;01mtry\u001b[39;00m:\n\u001b[0;32m--> 299\u001b[0m     new_values \u001b[38;5;241m=\u001b[39m \u001b[43mastype_array\u001b[49m\u001b[43m(\u001b[49m\u001b[43mvalues\u001b[49m\u001b[43m,\u001b[49m\u001b[43m \u001b[49m\u001b[43mdtype\u001b[49m\u001b[43m,\u001b[49m\u001b[43m \u001b[49m\u001b[43mcopy\u001b[49m\u001b[38;5;241;43m=\u001b[39;49m\u001b[43mcopy\u001b[49m\u001b[43m)\u001b[49m\n\u001b[1;32m    300\u001b[0m \u001b[38;5;28;01mexcept\u001b[39;00m (\u001b[38;5;167;01mValueError\u001b[39;00m, \u001b[38;5;167;01mTypeError\u001b[39;00m):\n\u001b[1;32m    301\u001b[0m     \u001b[38;5;66;03m# e.g. astype_nansafe can fail on object-dtype of strings\u001b[39;00m\n\u001b[1;32m    302\u001b[0m     \u001b[38;5;66;03m#  trying to convert to float\u001b[39;00m\n\u001b[1;32m    303\u001b[0m     \u001b[38;5;28;01mif\u001b[39;00m errors \u001b[38;5;241m==\u001b[39m \u001b[38;5;124m\"\u001b[39m\u001b[38;5;124mignore\u001b[39m\u001b[38;5;124m\"\u001b[39m:\n",
      "File \u001b[0;32m~/anaconda3/envs/qcl/lib/python3.10/site-packages/pandas/core/dtypes/astype.py:230\u001b[0m, in \u001b[0;36mastype_array\u001b[0;34m(values, dtype, copy)\u001b[0m\n\u001b[1;32m    227\u001b[0m     values \u001b[38;5;241m=\u001b[39m values\u001b[38;5;241m.\u001b[39mastype(dtype, copy\u001b[38;5;241m=\u001b[39mcopy)\n\u001b[1;32m    229\u001b[0m \u001b[38;5;28;01melse\u001b[39;00m:\n\u001b[0;32m--> 230\u001b[0m     values \u001b[38;5;241m=\u001b[39m \u001b[43mastype_nansafe\u001b[49m\u001b[43m(\u001b[49m\u001b[43mvalues\u001b[49m\u001b[43m,\u001b[49m\u001b[43m \u001b[49m\u001b[43mdtype\u001b[49m\u001b[43m,\u001b[49m\u001b[43m \u001b[49m\u001b[43mcopy\u001b[49m\u001b[38;5;241;43m=\u001b[39;49m\u001b[43mcopy\u001b[49m\u001b[43m)\u001b[49m\n\u001b[1;32m    232\u001b[0m \u001b[38;5;66;03m# in pandas we don't store numpy str dtypes, so convert to object\u001b[39;00m\n\u001b[1;32m    233\u001b[0m \u001b[38;5;28;01mif\u001b[39;00m \u001b[38;5;28misinstance\u001b[39m(dtype, np\u001b[38;5;241m.\u001b[39mdtype) \u001b[38;5;129;01mand\u001b[39;00m \u001b[38;5;28missubclass\u001b[39m(values\u001b[38;5;241m.\u001b[39mdtype\u001b[38;5;241m.\u001b[39mtype, \u001b[38;5;28mstr\u001b[39m):\n",
      "File \u001b[0;32m~/anaconda3/envs/qcl/lib/python3.10/site-packages/pandas/core/dtypes/astype.py:170\u001b[0m, in \u001b[0;36mastype_nansafe\u001b[0;34m(arr, dtype, copy, skipna)\u001b[0m\n\u001b[1;32m    166\u001b[0m     \u001b[38;5;28;01mraise\u001b[39;00m \u001b[38;5;167;01mValueError\u001b[39;00m(msg)\n\u001b[1;32m    168\u001b[0m \u001b[38;5;28;01mif\u001b[39;00m copy \u001b[38;5;129;01mor\u001b[39;00m is_object_dtype(arr\u001b[38;5;241m.\u001b[39mdtype) \u001b[38;5;129;01mor\u001b[39;00m is_object_dtype(dtype):\n\u001b[1;32m    169\u001b[0m     \u001b[38;5;66;03m# Explicit copy, or required since NumPy can't view from / to object.\u001b[39;00m\n\u001b[0;32m--> 170\u001b[0m     \u001b[38;5;28;01mreturn\u001b[39;00m \u001b[43marr\u001b[49m\u001b[38;5;241;43m.\u001b[39;49m\u001b[43mastype\u001b[49m\u001b[43m(\u001b[49m\u001b[43mdtype\u001b[49m\u001b[43m,\u001b[49m\u001b[43m \u001b[49m\u001b[43mcopy\u001b[49m\u001b[38;5;241;43m=\u001b[39;49m\u001b[38;5;28;43;01mTrue\u001b[39;49;00m\u001b[43m)\u001b[49m\n\u001b[1;32m    172\u001b[0m \u001b[38;5;28;01mreturn\u001b[39;00m arr\u001b[38;5;241m.\u001b[39mastype(dtype, copy\u001b[38;5;241m=\u001b[39mcopy)\n",
      "\u001b[0;31mValueError\u001b[0m: could not convert string to float: '****'"
     ]
    }
   ],
   "source": [
    "# Convert Rating to float\n",
    "imdb['Rating'].astype('float')"
   ]
  },
  {
   "cell_type": "markdown",
   "id": "f28648d4",
   "metadata": {},
   "source": [
    "## Dealing with missing data\n",
    "\n",
    "Most libraries (including scikit-learn) will complain when working with missing values, even if these are stored as NaN (Not a Number). Moreover, missing values can drastically impact the quality of your models.\n",
    "\n",
    "The first step when dealing with missing data is finding it. The `info()` function we introduced earlier is useful to detect missing values encoded as NaN. Unfortunately, as we saw, not all missing values are encoded the same way. \n",
    "\n",
    "Sometimes the data types of our columns may provide some information. For example, the column Rating has type object which is used to represent text."
   ]
  },
  {
   "cell_type": "code",
   "execution_count": 151,
   "id": "5b729802",
   "metadata": {},
   "outputs": [
    {
     "data": {
      "text/plain": [
       "Title            object\n",
       "Release Year    float64\n",
       "End Year        float64\n",
       "Rating           object\n",
       "Cast             object\n",
       "Runtime          object\n",
       "Genre            object\n",
       "dtype: object"
      ]
     },
     "execution_count": 151,
     "metadata": {},
     "output_type": "execute_result"
    }
   ],
   "source": [
    "# Show data types for all columns\n",
    "imdb.dtypes"
   ]
  },
  {
   "cell_type": "markdown",
   "id": "4e4dd01f",
   "metadata": {},
   "source": [
    "<div class=\"alert alert-block alert-warning\">\n",
    "    <b>Note:</b> Release Year and End Year are type float64 even though years are integers. In Pandas, NaN is considered a float which forces a column of integers with missing values to become floats.\n",
    "</div>"
   ]
  },
  {
   "cell_type": "markdown",
   "id": "bf243895",
   "metadata": {},
   "source": [
    "To address missing values you can either remove the columns and/or rows with missing data (not always recommended) or replace/impute these values. Multiple imputation methods exist and choosing the right one is not always easy. For demonstration purposes we will replace the missing values in the Rating column for the mean of the existing values."
   ]
  },
  {
   "cell_type": "code",
   "execution_count": 152,
   "id": "20d3689a",
   "metadata": {},
   "outputs": [
    {
     "data": {
      "text/plain": [
       "0    8.2\n",
       "1    8.7\n",
       "2    7.9\n",
       "3    8.6\n",
       "4    8.0\n",
       "Name: Rating, dtype: float64"
      ]
     },
     "execution_count": 152,
     "metadata": {},
     "output_type": "execute_result"
    }
   ],
   "source": [
    "# Extract existing values\n",
    "true_rating = imdb.loc[imdb['Rating'] != \"****\", \"Rating\"].astype(\"float\")\n",
    "true_rating.head()"
   ]
  },
  {
   "cell_type": "code",
   "execution_count": 153,
   "id": "9f227fc9",
   "metadata": {},
   "outputs": [
    {
     "data": {
      "text/plain": [
       "7.8"
      ]
     },
     "execution_count": 153,
     "metadata": {},
     "output_type": "execute_result"
    }
   ],
   "source": [
    "# Compute the mean\n",
    "mean_rating = np.mean(true_rating).round(1)\n",
    "mean_rating"
   ]
  },
  {
   "cell_type": "markdown",
   "id": "898d7f2c",
   "metadata": {},
   "source": [
    "Let's create a new column with the replaced values of the Rating column."
   ]
  },
  {
   "cell_type": "code",
   "execution_count": 154,
   "id": "d44b364c",
   "metadata": {
    "scrolled": true
   },
   "outputs": [
    {
     "data": {
      "text/html": [
       "<div>\n",
       "<style scoped>\n",
       "    .dataframe tbody tr th:only-of-type {\n",
       "        vertical-align: middle;\n",
       "    }\n",
       "\n",
       "    .dataframe tbody tr th {\n",
       "        vertical-align: top;\n",
       "    }\n",
       "\n",
       "    .dataframe thead th {\n",
       "        text-align: right;\n",
       "    }\n",
       "</style>\n",
       "<table border=\"1\" class=\"dataframe\">\n",
       "  <thead>\n",
       "    <tr style=\"text-align: right;\">\n",
       "      <th></th>\n",
       "      <th>Title</th>\n",
       "      <th>Release Year</th>\n",
       "      <th>End Year</th>\n",
       "      <th>Rating</th>\n",
       "      <th>Cast</th>\n",
       "      <th>Runtime</th>\n",
       "      <th>Genre</th>\n",
       "      <th>Rating2</th>\n",
       "    </tr>\n",
       "  </thead>\n",
       "  <tbody>\n",
       "    <tr>\n",
       "      <th>9</th>\n",
       "      <td>The Last of Us</td>\n",
       "      <td>2023.0</td>\n",
       "      <td>NaN</td>\n",
       "      <td>****</td>\n",
       "      <td>Pedro Pascal, Bella Ramsey, Gabriel Luna, Merl...</td>\n",
       "      <td>****</td>\n",
       "      <td>Action, Adventure, Drama</td>\n",
       "      <td>7.8</td>\n",
       "    </tr>\n",
       "    <tr>\n",
       "      <th>74</th>\n",
       "      <td>That '90s Show</td>\n",
       "      <td>2023.0</td>\n",
       "      <td>NaN</td>\n",
       "      <td>****</td>\n",
       "      <td>Kurtwood Smith, Debra Jo Rupp, Callie Haverda,...</td>\n",
       "      <td>30 min</td>\n",
       "      <td>Comedy, Drama, Romance</td>\n",
       "      <td>7.8</td>\n",
       "    </tr>\n",
       "    <tr>\n",
       "      <th>136</th>\n",
       "      <td>Poker Face</td>\n",
       "      <td>2023.0</td>\n",
       "      <td>NaN</td>\n",
       "      <td>****</td>\n",
       "      <td>Natasha Lyonne, Megan Suri, Colton Ryan, Brand...</td>\n",
       "      <td>****</td>\n",
       "      <td>Mystery</td>\n",
       "      <td>7.8</td>\n",
       "    </tr>\n",
       "    <tr>\n",
       "      <th>183</th>\n",
       "      <td>The Consultant</td>\n",
       "      <td>2023.0</td>\n",
       "      <td>NaN</td>\n",
       "      <td>****</td>\n",
       "      <td>Christoph Waltz, Nat Wolff, Brittany O'Grady, ...</td>\n",
       "      <td>****</td>\n",
       "      <td>Comedy</td>\n",
       "      <td>7.8</td>\n",
       "    </tr>\n",
       "    <tr>\n",
       "      <th>224</th>\n",
       "      <td>Night Court</td>\n",
       "      <td>2023.0</td>\n",
       "      <td>NaN</td>\n",
       "      <td>****</td>\n",
       "      <td>Melissa Rauch, John Larroquette, India de Beau...</td>\n",
       "      <td>****</td>\n",
       "      <td>Comedy</td>\n",
       "      <td>7.8</td>\n",
       "    </tr>\n",
       "  </tbody>\n",
       "</table>\n",
       "</div>"
      ],
      "text/plain": [
       "              Title  Release Year  End Year Rating  \\\n",
       "9    The Last of Us        2023.0       NaN   ****   \n",
       "74   That '90s Show        2023.0       NaN   ****   \n",
       "136      Poker Face        2023.0       NaN   ****   \n",
       "183  The Consultant        2023.0       NaN   ****   \n",
       "224     Night Court        2023.0       NaN   ****   \n",
       "\n",
       "                                                  Cast Runtime  \\\n",
       "9    Pedro Pascal, Bella Ramsey, Gabriel Luna, Merl...    ****   \n",
       "74   Kurtwood Smith, Debra Jo Rupp, Callie Haverda,...  30 min   \n",
       "136  Natasha Lyonne, Megan Suri, Colton Ryan, Brand...    ****   \n",
       "183  Christoph Waltz, Nat Wolff, Brittany O'Grady, ...    ****   \n",
       "224  Melissa Rauch, John Larroquette, India de Beau...    ****   \n",
       "\n",
       "                        Genre  Rating2  \n",
       "9    Action, Adventure, Drama      7.8  \n",
       "74     Comedy, Drama, Romance      7.8  \n",
       "136                   Mystery      7.8  \n",
       "183                    Comedy      7.8  \n",
       "224                    Comedy      7.8  "
      ]
     },
     "execution_count": 154,
     "metadata": {},
     "output_type": "execute_result"
    }
   ],
   "source": [
    "# Replace NaN with the mean\n",
    "new_ratings = imdb['Rating'].replace(to_replace=\"****\", value=mean_rating)\n",
    "\n",
    "# Create the new column with the filled Rating\n",
    "imdb['Rating2'] = new_ratings.astype(\"float\")\n",
    "\n",
    "# Take a look at the changes\n",
    "imdb[imdb['Rating'] == \"****\"].head()"
   ]
  },
  {
   "cell_type": "markdown",
   "id": "b1399929",
   "metadata": {},
   "source": [
    "Before we fill missing values on the Runtime column we need to remove everything that is not a number in its values. It seems that the runtime for all TV shows is in minutes, but we would need some confirmation. We will start by extracting the existing values as we did before."
   ]
  },
  {
   "cell_type": "code",
   "execution_count": 155,
   "id": "e778c3ee",
   "metadata": {},
   "outputs": [
    {
     "data": {
      "text/plain": [
       "0    45 min\n",
       "1    60 min\n",
       "2    60 min\n",
       "3    60 min\n",
       "4    60 min\n",
       "Name: Runtime, dtype: object"
      ]
     },
     "execution_count": 155,
     "metadata": {},
     "output_type": "execute_result"
    }
   ],
   "source": [
    "# Extract existing values\n",
    "true_runtime = imdb.loc[imdb['Runtime'] != \"****\", \"Runtime\"]\n",
    "true_runtime.head()"
   ]
  },
  {
   "cell_type": "markdown",
   "id": "36461258",
   "metadata": {},
   "source": [
    "To check if all existing values match the `<number> min` format we will use a regular expression (regex) with the string function `match()`."
   ]
  },
  {
   "cell_type": "code",
   "execution_count": 156,
   "id": "3310e04a",
   "metadata": {},
   "outputs": [
    {
     "data": {
      "text/plain": [
       "0    True\n",
       "1    True\n",
       "2    True\n",
       "3    True\n",
       "4    True\n",
       "Name: Runtime, dtype: bool"
      ]
     },
     "execution_count": 156,
     "metadata": {},
     "output_type": "execute_result"
    }
   ],
   "source": [
    "# Check for matches\n",
    "format_match = true_runtime.str.match('\\d+ min')\n",
    "format_match.head()"
   ]
  },
  {
   "cell_type": "markdown",
   "id": "d4baa87f",
   "metadata": {},
   "source": [
    "This regular expression matches digits from 0 to 9 (\\d) one or more times (+) followed by a space and the characters \"min\". We will not cover regular expressions, but make sure to check the resources to learn about regular expressions."
   ]
  },
  {
   "cell_type": "markdown",
   "id": "26cc798d",
   "metadata": {},
   "source": [
    "To check if absolutely all values match the format, we will use the `all()` function."
   ]
  },
  {
   "cell_type": "code",
   "execution_count": 157,
   "id": "537efabb",
   "metadata": {},
   "outputs": [
    {
     "data": {
      "text/plain": [
       "False"
      ]
     },
     "execution_count": 157,
     "metadata": {},
     "output_type": "execute_result"
    }
   ],
   "source": [
    "# Are all runtime values in minutes?\n",
    "format_match.all()"
   ]
  },
  {
   "cell_type": "markdown",
   "id": "c84568d6",
   "metadata": {},
   "source": [
    "Now we know we may have missed something. Let's look at the values that do not match the format."
   ]
  },
  {
   "cell_type": "code",
   "execution_count": 158,
   "id": "d0edd082",
   "metadata": {},
   "outputs": [
    {
     "data": {
      "text/plain": [
       "4371    1,290 min\n",
       "Name: Runtime, dtype: object"
      ]
     },
     "execution_count": 158,
     "metadata": {},
     "output_type": "execute_result"
    }
   ],
   "source": [
    "# Get values without a match\n",
    "true_runtime[~format_match]"
   ]
  },
  {
   "cell_type": "markdown",
   "id": "f9aca35d",
   "metadata": {},
   "source": [
    "Fortunately, we only missed a comma in our pattern. To compute the mean we will need to remove both: the comma and \"min\"."
   ]
  },
  {
   "cell_type": "code",
   "execution_count": 159,
   "id": "fc84677f",
   "metadata": {},
   "outputs": [
    {
     "data": {
      "text/plain": [
       "0    45\n",
       "1    60\n",
       "2    60\n",
       "3    60\n",
       "4    60\n",
       "Name: Runtime, dtype: int64"
      ]
     },
     "execution_count": 159,
     "metadata": {},
     "output_type": "execute_result"
    }
   ],
   "source": [
    "# Replace multiple values\n",
    "replace_dict = {\",\": \"\", \" min\": \"\"}\n",
    "true_runtime_clean = true_runtime.replace(to_replace=replace_dict, regex=True).astype(\"int\")\n",
    "true_runtime_clean.head()"
   ]
  },
  {
   "cell_type": "markdown",
   "id": "24796e39",
   "metadata": {},
   "source": [
    "With this, we can now compute the mean of our runtime values and fill the missing data. Remember we removed the comma and \"min\" to compute the mean of the existing runtimes, but we need to remove those for the real column values too."
   ]
  },
  {
   "cell_type": "code",
   "execution_count": 160,
   "id": "34f5bb0e",
   "metadata": {},
   "outputs": [
    {
     "data": {
      "text/html": [
       "<div>\n",
       "<style scoped>\n",
       "    .dataframe tbody tr th:only-of-type {\n",
       "        vertical-align: middle;\n",
       "    }\n",
       "\n",
       "    .dataframe tbody tr th {\n",
       "        vertical-align: top;\n",
       "    }\n",
       "\n",
       "    .dataframe thead th {\n",
       "        text-align: right;\n",
       "    }\n",
       "</style>\n",
       "<table border=\"1\" class=\"dataframe\">\n",
       "  <thead>\n",
       "    <tr style=\"text-align: right;\">\n",
       "      <th></th>\n",
       "      <th>Title</th>\n",
       "      <th>Release Year</th>\n",
       "      <th>End Year</th>\n",
       "      <th>Rating</th>\n",
       "      <th>Cast</th>\n",
       "      <th>Runtime</th>\n",
       "      <th>Genre</th>\n",
       "      <th>Rating2</th>\n",
       "      <th>Runtime2</th>\n",
       "    </tr>\n",
       "  </thead>\n",
       "  <tbody>\n",
       "    <tr>\n",
       "      <th>0</th>\n",
       "      <td>Wednesday</td>\n",
       "      <td>2022.0</td>\n",
       "      <td>NaN</td>\n",
       "      <td>8.2</td>\n",
       "      <td>Jenna Ortega, Hunter Doohan, Percy Hynes White...</td>\n",
       "      <td>45 min</td>\n",
       "      <td>Comedy, Crime, Fantasy</td>\n",
       "      <td>8.2</td>\n",
       "      <td>45</td>\n",
       "    </tr>\n",
       "    <tr>\n",
       "      <th>1</th>\n",
       "      <td>Yellowstone</td>\n",
       "      <td>2018.0</td>\n",
       "      <td>NaN</td>\n",
       "      <td>8.7</td>\n",
       "      <td>Kevin Costner, Luke Grimes, Kelly Reilly, Wes ...</td>\n",
       "      <td>60 min</td>\n",
       "      <td>Drama, Western</td>\n",
       "      <td>8.7</td>\n",
       "      <td>60</td>\n",
       "    </tr>\n",
       "    <tr>\n",
       "      <th>2</th>\n",
       "      <td>The White Lotus</td>\n",
       "      <td>2021.0</td>\n",
       "      <td>2023.0</td>\n",
       "      <td>7.9</td>\n",
       "      <td>Jennifer Coolidge, Jon Gries, F. Murray Abraha...</td>\n",
       "      <td>60 min</td>\n",
       "      <td>Comedy, Drama</td>\n",
       "      <td>7.9</td>\n",
       "      <td>60</td>\n",
       "    </tr>\n",
       "    <tr>\n",
       "      <th>3</th>\n",
       "      <td>1923</td>\n",
       "      <td>2022.0</td>\n",
       "      <td>2023.0</td>\n",
       "      <td>8.6</td>\n",
       "      <td>Harrison Ford, Helen Mirren, Brandon Sklenar, ...</td>\n",
       "      <td>60 min</td>\n",
       "      <td>Drama, Western</td>\n",
       "      <td>8.6</td>\n",
       "      <td>60</td>\n",
       "    </tr>\n",
       "    <tr>\n",
       "      <th>4</th>\n",
       "      <td>Jack Ryan</td>\n",
       "      <td>2018.0</td>\n",
       "      <td>NaN</td>\n",
       "      <td>8</td>\n",
       "      <td>John Krasinski, Wendell Pierce, Michael Kelly,...</td>\n",
       "      <td>60 min</td>\n",
       "      <td>Action, Drama, Thriller</td>\n",
       "      <td>8.0</td>\n",
       "      <td>60</td>\n",
       "    </tr>\n",
       "  </tbody>\n",
       "</table>\n",
       "</div>"
      ],
      "text/plain": [
       "             Title  Release Year  End Year Rating  \\\n",
       "0        Wednesday        2022.0       NaN    8.2   \n",
       "1      Yellowstone        2018.0       NaN    8.7   \n",
       "2  The White Lotus        2021.0    2023.0    7.9   \n",
       "3             1923        2022.0    2023.0    8.6   \n",
       "4        Jack Ryan        2018.0       NaN      8   \n",
       "\n",
       "                                                Cast Runtime  \\\n",
       "0  Jenna Ortega, Hunter Doohan, Percy Hynes White...  45 min   \n",
       "1  Kevin Costner, Luke Grimes, Kelly Reilly, Wes ...  60 min   \n",
       "2  Jennifer Coolidge, Jon Gries, F. Murray Abraha...  60 min   \n",
       "3  Harrison Ford, Helen Mirren, Brandon Sklenar, ...  60 min   \n",
       "4  John Krasinski, Wendell Pierce, Michael Kelly,...  60 min   \n",
       "\n",
       "                     Genre  Rating2  Runtime2  \n",
       "0   Comedy, Crime, Fantasy      8.2        45  \n",
       "1           Drama, Western      8.7        60  \n",
       "2            Comedy, Drama      7.9        60  \n",
       "3           Drama, Western      8.6        60  \n",
       "4  Action, Drama, Thriller      8.0        60  "
      ]
     },
     "execution_count": 160,
     "metadata": {},
     "output_type": "execute_result"
    }
   ],
   "source": [
    "# Compute the mean runtime\n",
    "mean_runtime = np.mean(true_runtime_clean).round()\n",
    "\n",
    "# Replace missing values with the mean\n",
    "replace_dict = {\",\": \"\", \" min\": \"\", \"\\*\\*\\*\\*\": mean_runtime}\n",
    "new_runtimes = imdb[\"Runtime\"].replace(to_replace=replace_dict, regex=True)\n",
    "imdb['Runtime2'] = new_runtimes.astype(\"int\")\n",
    "imdb.head()"
   ]
  },
  {
   "cell_type": "markdown",
   "id": "1349f278",
   "metadata": {},
   "source": [
    "Additionally, if we were to select TV shows with a Release Year and End Year, we can subset our data using the `isna()` function."
   ]
  },
  {
   "cell_type": "code",
   "execution_count": 6,
   "id": "171de7b3",
   "metadata": {
    "scrolled": true
   },
   "outputs": [
    {
     "name": "stdout",
     "output_type": "stream",
     "text": [
      "<class 'pandas.core.frame.DataFrame'>\n",
      "Int64Index: 17410 entries, 2 to 49999\n",
      "Data columns (total 7 columns):\n",
      " #   Column        Non-Null Count  Dtype  \n",
      "---  ------        --------------  -----  \n",
      " 0   Title         17410 non-null  object \n",
      " 1   Release Year  17410 non-null  float64\n",
      " 2   End Year      17410 non-null  float64\n",
      " 3   Rating        17410 non-null  object \n",
      " 4   Cast          17403 non-null  object \n",
      " 5   Runtime       17410 non-null  object \n",
      " 6   Genre         17410 non-null  object \n",
      "dtypes: float64(2), object(5)\n",
      "memory usage: 1.1+ MB\n"
     ]
    }
   ],
   "source": [
    "# Select finished shows\n",
    "finished_shows = imdb[(~imdb['Release Year'].isna() & (~imdb['End Year'].isna()))]\n",
    "finished_shows.info()"
   ]
  },
  {
   "cell_type": "markdown",
   "id": "bb81dc58",
   "metadata": {},
   "source": [
    "## Writing files\n",
    "\n",
    "Finally, writing our results to a file may be necessary to share our work or continue the analysis elsewhere. With Pandas we can write DataFrames to CSV, Excel and other file formats."
   ]
  },
  {
   "cell_type": "code",
   "execution_count": 14,
   "id": "2c62732c",
   "metadata": {},
   "outputs": [],
   "source": [
    "# Write our DataFrame to CSV\n",
    "finished_shows.to_csv(\"finished_shows.csv\", index=False)"
   ]
  },
  {
   "cell_type": "markdown",
   "id": "54eccdda",
   "metadata": {},
   "source": [
    "## Download your notebook\n",
    "\n",
    "![](https://raw.githubusercontent.com/CMC-QCL/python-data-manipulation/main/imgs/jhub_download.png)"
   ]
  },
  {
   "cell_type": "markdown",
   "id": "4e2c7fc9",
   "metadata": {},
   "source": [
    "## Digital Badge\n",
    "\n",
    "Send your notebook with the solved hands-on activities to **qcl@cmc.edu**"
   ]
  },
  {
   "cell_type": "markdown",
   "id": "53d2003a",
   "metadata": {},
   "source": [
    "## Resources\n",
    "\n",
    "More about Pandas\n",
    "* Pandas documentation (https://pandas.pydata.org/docs/user_guide/10min.html)\n",
    "* Expand your skills (https://www.kaggle.com/learn/pandas)\n",
    "* More on Pandas (https://realpython.com/pandas-python-explore-dataset/)\n",
    "\n",
    "Imputation methods:\n",
    "* Flexible Imputation of Missing Data by Stef van Buuren (https://stefvanbuuren.name/fimd/) - Code examples in R\n",
    "* Scikit-learn documentation (https://scikit-learn.org/stable/modules/impute.html)\n",
    "\n",
    "Learn about regular expressions:\n",
    "* Regular expressions in Python (https://realpython.com/regex-python/)\n",
    "* Build and test regular expressions (https://regex101.com/)\n",
    "* Regex cheat sheet (https://www.rexegg.com/regex-quickstart.html)\n",
    "\n",
    "Finally, tools change:\n",
    "* Pandas vs. Polars (https://studioterabyte.nl/en/blog/polars-vs-pandas)\n",
    "* Polars tutorial (https://www.codemag.com/Article/2212051/Using-the-Polars-DataFrame-Library)"
   ]
  }
 ],
 "metadata": {
  "kernelspec": {
   "display_name": "Python 3 (ipykernel)",
   "language": "python",
   "name": "python3"
  },
  "language_info": {
   "codemirror_mode": {
    "name": "ipython",
    "version": 3
   },
   "file_extension": ".py",
   "mimetype": "text/x-python",
   "name": "python",
   "nbconvert_exporter": "python",
   "pygments_lexer": "ipython3",
   "version": "3.10.8"
  }
 },
 "nbformat": 4,
 "nbformat_minor": 5
}
